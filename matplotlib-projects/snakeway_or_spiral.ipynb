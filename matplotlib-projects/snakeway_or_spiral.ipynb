{
 "cells": [
  {
   "cell_type": "code",
   "execution_count": 2,
   "metadata": {},
   "outputs": [
    {
     "data": {
      "image/png": "[encoded data removed]",
      "text/plain": [
       "<Figure size 432x288 with 1 Axes>"
      ]
     },
     "metadata": {
      "needs_background": "light"
     },
     "output_type": "display_data"
    }
   ],
   "source": [
    "def snakeway(n):\n",
    "    import matplotlib.pyplot as plt\n",
    "    %matplotlib inline\n",
    "    x=[1]\n",
    "    y=[0]\n",
    "    c=0\n",
    "    d=1\n",
    "    for i in range(n):\n",
    "        y.append(y[-1]+(n-c))\n",
    "        y.append(y[-1])\n",
    "        x.append(x[-1])\n",
    "        x.append(x[-1]+n-d) #avança\n",
    "\n",
    "\n",
    "        c = c+1\n",
    "        d=d+1\n",
    "        y.append(y[-1]-(n-c))\n",
    "        y.append(y[-1])\n",
    "        x.append(x[-1])\n",
    "        x.append(x[-1]-n+d) #retrocede\n",
    "\n",
    "        d=d+1\n",
    "        c = c+1\n",
    "    y[0]=1\n",
    "\n",
    "   \n",
    "        \n",
    "    plt.plot(x[0:2*n],y[0:2*n])\n",
    "snakeway(20)"
   ]
  },
  {
   "cell_type": "code",
   "execution_count": null,
   "metadata": {},
   "outputs": [],
   "source": []
  }
 ],
 "metadata": {
  "kernelspec": {
   "display_name": "Python 3",
   "language": "python",
   "name": "python3"
  },
  "language_info": {
   "codemirror_mode": {
    "name": "ipython",
    "version": 3
   },
   "file_extension": ".py",
   "mimetype": "text/x-python",
   "name": "python",
   "nbconvert_exporter": "python",
   "pygments_lexer": "ipython3",
   "version": "3.7.1"
  }
 },
 "nbformat": 4,
 "nbformat_minor": 2
}
