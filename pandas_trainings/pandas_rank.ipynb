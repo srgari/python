{
 "metadata": {
  "language_info": {
   "codemirror_mode": {
    "name": "ipython",
    "version": 3
   },
   "file_extension": ".py",
   "mimetype": "text/x-python",
   "name": "python",
   "nbconvert_exporter": "python",
   "pygments_lexer": "ipython3",
   "version": "3.8.5"
  },
  "orig_nbformat": 2,
  "kernelspec": {
   "name": "python385jvsc74a57bd02db524e06e9f5f4ffedc911c917cb75e12dbc923643829bf417064a77eb14d37",
   "display_name": "Python 3.8.5 64-bit"
  },
  "metadata": {
   "interpreter": {
    "hash": "2db524e06e9f5f4ffedc911c917cb75e12dbc923643829bf417064a77eb14d37"
   }
  }
 },
 "nbformat": 4,
 "nbformat_minor": 2,
 "cells": [
  {
   "cell_type": "code",
   "execution_count": 113,
   "metadata": {},
   "outputs": [
    {
     "output_type": "execute_result",
     "data": {
      "text/plain": [
       "            id_cliente   nome             sobrenome sexo          cpf  \\\n",
       "0 -5271066554876290418  ALINE        BOTELHO RIGONI    F  36919884666   \n",
       "1 -9118477834724310601   ARAO  CIQUEIRA SCARCINELLI    M  30289361869   \n",
       "2  7606654413632934233   ARON     CHAGAS ZANICHELLI    M  31520745060   \n",
       "3 -5173874165691032850    ADA           GRIFFO MORO    F  31564113612   \n",
       "4  6434582929127928684  ABADE       CONCIANI MILLER    M  36849054538   \n",
       "\n",
       "           grau_instrucao  uf        cep      idade data_inscricao  \n",
       "0    fundamental completo  MG  32401-614  32.027446     2021-10-04  \n",
       "1  fundamental incompleto  SP  15253-864  35.258034     2021-03-24  \n",
       "2  fundamental incompleto  RS  92776-450  41.042358     2021-05-13  \n",
       "3   ensino medio completo  MG  30201-433  24.418194     2021-05-04  \n",
       "4  fundamental incompleto  BA  45908-655  37.185126     2021-01-25  "
      ],
      "text/html": "<div>\n<style scoped>\n    .dataframe tbody tr th:only-of-type {\n        vertical-align: middle;\n    }\n\n    .dataframe tbody tr th {\n        vertical-align: top;\n    }\n\n    .dataframe thead th {\n        text-align: right;\n    }\n</style>\n<table border=\"1\" class=\"dataframe\">\n  <thead>\n    <tr style=\"text-align: right;\">\n      <th></th>\n      <th>id_cliente</th>\n      <th>nome</th>\n      <th>sobrenome</th>\n      <th>sexo</th>\n      <th>cpf</th>\n      <th>grau_instrucao</th>\n      <th>uf</th>\n      <th>cep</th>\n      <th>idade</th>\n      <th>data_inscricao</th>\n    </tr>\n  </thead>\n  <tbody>\n    <tr>\n      <th>0</th>\n      <td>-5271066554876290418</td>\n      <td>ALINE</td>\n      <td>BOTELHO RIGONI</td>\n      <td>F</td>\n      <td>36919884666</td>\n      <td>fundamental completo</td>\n      <td>MG</td>\n      <td>32401-614</td>\n      <td>32.027446</td>\n      <td>2021-10-04</td>\n    </tr>\n    <tr>\n      <th>1</th>\n      <td>-9118477834724310601</td>\n      <td>ARAO</td>\n      <td>CIQUEIRA SCARCINELLI</td>\n      <td>M</td>\n      <td>30289361869</td>\n      <td>fundamental incompleto</td>\n      <td>SP</td>\n      <td>15253-864</td>\n      <td>35.258034</td>\n      <td>2021-03-24</td>\n    </tr>\n    <tr>\n      <th>2</th>\n      <td>7606654413632934233</td>\n      <td>ARON</td>\n      <td>CHAGAS ZANICHELLI</td>\n      <td>M</td>\n      <td>31520745060</td>\n      <td>fundamental incompleto</td>\n      <td>RS</td>\n      <td>92776-450</td>\n      <td>41.042358</td>\n      <td>2021-05-13</td>\n    </tr>\n    <tr>\n      <th>3</th>\n      <td>-5173874165691032850</td>\n      <td>ADA</td>\n      <td>GRIFFO MORO</td>\n      <td>F</td>\n      <td>31564113612</td>\n      <td>ensino medio completo</td>\n      <td>MG</td>\n      <td>30201-433</td>\n      <td>24.418194</td>\n      <td>2021-05-04</td>\n    </tr>\n    <tr>\n      <th>4</th>\n      <td>6434582929127928684</td>\n      <td>ABADE</td>\n      <td>CONCIANI MILLER</td>\n      <td>M</td>\n      <td>36849054538</td>\n      <td>fundamental incompleto</td>\n      <td>BA</td>\n      <td>45908-655</td>\n      <td>37.185126</td>\n      <td>2021-01-25</td>\n    </tr>\n  </tbody>\n</table>\n</div>"
     },
     "metadata": {},
     "execution_count": 113
    }
   ],
   "source": [
    "import pandas as pd \n",
    "\n",
    "df = pd.read_csv(r'E:\\Users\\Sergio\\OneDrive\\git\\python\\fake_datasets\\csv\\dados_clientes.csv', encoding= 'latin')\n",
    "df['data_inscricao'] = pd.to_datetime(df['data_inscricao'])\n",
    "df.head()"
   ]
  },
  {
   "cell_type": "code",
   "execution_count": 114,
   "metadata": {},
   "outputs": [
    {
     "output_type": "execute_result",
     "data": {
      "text/plain": [
       "             nome      idade      rank\n",
       "73464  SEBASTIANE  18.944867       1.0\n",
       "28377      EZAIRA  19.627523       2.0\n",
       "54363     LUCEMIR  19.749891       3.0\n",
       "78900     LAERSON  19.847393       4.0\n",
       "12463   CLARINETE  20.000139       5.0\n",
       "...           ...        ...       ...\n",
       "46659      JUCEIA  71.012386  100783.0\n",
       "11142     KAILANE  71.353194  100784.0\n",
       "1017     ADENALVA  72.148736  100785.0\n",
       "80921    VANILSON  72.241997  100786.0\n",
       "78982    UERMESON  78.351208  100787.0\n",
       "\n",
       "[100787 rows x 3 columns]"
      ],
      "text/html": "<div>\n<style scoped>\n    .dataframe tbody tr th:only-of-type {\n        vertical-align: middle;\n    }\n\n    .dataframe tbody tr th {\n        vertical-align: top;\n    }\n\n    .dataframe thead th {\n        text-align: right;\n    }\n</style>\n<table border=\"1\" class=\"dataframe\">\n  <thead>\n    <tr style=\"text-align: right;\">\n      <th></th>\n      <th>nome</th>\n      <th>idade</th>\n      <th>rank</th>\n    </tr>\n  </thead>\n  <tbody>\n    <tr>\n      <th>73464</th>\n      <td>SEBASTIANE</td>\n      <td>18.944867</td>\n      <td>1.0</td>\n    </tr>\n    <tr>\n      <th>28377</th>\n      <td>EZAIRA</td>\n      <td>19.627523</td>\n      <td>2.0</td>\n    </tr>\n    <tr>\n      <th>54363</th>\n      <td>LUCEMIR</td>\n      <td>19.749891</td>\n      <td>3.0</td>\n    </tr>\n    <tr>\n      <th>78900</th>\n      <td>LAERSON</td>\n      <td>19.847393</td>\n      <td>4.0</td>\n    </tr>\n    <tr>\n      <th>12463</th>\n      <td>CLARINETE</td>\n      <td>20.000139</td>\n      <td>5.0</td>\n    </tr>\n    <tr>\n      <th>...</th>\n      <td>...</td>\n      <td>...</td>\n      <td>...</td>\n    </tr>\n    <tr>\n      <th>46659</th>\n      <td>JUCEIA</td>\n      <td>71.012386</td>\n      <td>100783.0</td>\n    </tr>\n    <tr>\n      <th>11142</th>\n      <td>KAILANE</td>\n      <td>71.353194</td>\n      <td>100784.0</td>\n    </tr>\n    <tr>\n      <th>1017</th>\n      <td>ADENALVA</td>\n      <td>72.148736</td>\n      <td>100785.0</td>\n    </tr>\n    <tr>\n      <th>80921</th>\n      <td>VANILSON</td>\n      <td>72.241997</td>\n      <td>100786.0</td>\n    </tr>\n    <tr>\n      <th>78982</th>\n      <td>UERMESON</td>\n      <td>78.351208</td>\n      <td>100787.0</td>\n    </tr>\n  </tbody>\n</table>\n<p>100787 rows × 3 columns</p>\n</div>"
     },
     "metadata": {},
     "execution_count": 114
    }
   ],
   "source": [
    "df['rank'] = df.idade.rank()\n",
    "df.sort_values('idade')[['nome','idade','rank']]"
   ]
  },
  {
   "cell_type": "code",
   "execution_count": 115,
   "metadata": {},
   "outputs": [
    {
     "output_type": "execute_result",
     "data": {
      "text/plain": [
       "                id_cliente        nome        sobrenome sexo          cpf  \\\n",
       "28377 -2670521759400778700      EZAIRA  CIQUEIRA ALBINO    F  38959025607   \n",
       "73464  9195611098208229137  SEBASTIANE   GRIFFO TRANCHO    F  35393985541   \n",
       "\n",
       "               grau_instrucao  uf        cep      idade data_inscricao  rank  \n",
       "28377  fundamental incompleto  MG  38599-386  19.627523     2021-12-29   2.0  \n",
       "73464   ensino medio completo  BA  46113-634  18.944867     2021-04-07   1.0  "
      ],
      "text/html": "<div>\n<style scoped>\n    .dataframe tbody tr th:only-of-type {\n        vertical-align: middle;\n    }\n\n    .dataframe tbody tr th {\n        vertical-align: top;\n    }\n\n    .dataframe thead th {\n        text-align: right;\n    }\n</style>\n<table border=\"1\" class=\"dataframe\">\n  <thead>\n    <tr style=\"text-align: right;\">\n      <th></th>\n      <th>id_cliente</th>\n      <th>nome</th>\n      <th>sobrenome</th>\n      <th>sexo</th>\n      <th>cpf</th>\n      <th>grau_instrucao</th>\n      <th>uf</th>\n      <th>cep</th>\n      <th>idade</th>\n      <th>data_inscricao</th>\n      <th>rank</th>\n    </tr>\n  </thead>\n  <tbody>\n    <tr>\n      <th>28377</th>\n      <td>-2670521759400778700</td>\n      <td>EZAIRA</td>\n      <td>CIQUEIRA ALBINO</td>\n      <td>F</td>\n      <td>38959025607</td>\n      <td>fundamental incompleto</td>\n      <td>MG</td>\n      <td>38599-386</td>\n      <td>19.627523</td>\n      <td>2021-12-29</td>\n      <td>2.0</td>\n    </tr>\n    <tr>\n      <th>73464</th>\n      <td>9195611098208229137</td>\n      <td>SEBASTIANE</td>\n      <td>GRIFFO TRANCHO</td>\n      <td>F</td>\n      <td>35393985541</td>\n      <td>ensino medio completo</td>\n      <td>BA</td>\n      <td>46113-634</td>\n      <td>18.944867</td>\n      <td>2021-04-07</td>\n      <td>1.0</td>\n    </tr>\n  </tbody>\n</table>\n</div>"
     },
     "metadata": {},
     "execution_count": 115
    }
   ],
   "source": [
    "df.query('idade.rank() < 3')"
   ]
  },
  {
   "cell_type": "code",
   "execution_count": 116,
   "metadata": {},
   "outputs": [
    {
     "output_type": "execute_result",
     "data": {
      "text/plain": [
       "                id_cliente        nome            sobrenome sexo          cpf  \\\n",
       "3417  -3515710187127789620    ALDENILO            LAGO LEAL    M  39313945223   \n",
       "90265  3844132603624178588   LEIDILANE     CANZIAN MARANGON    F  30321966201   \n",
       "2645   9042162596132933383    ALACIDIO          BUZON ROSAS    M  30978163486   \n",
       "14492 -6748003961146701235   CREONILDO         FORAFO BUFFO    M  37402902420   \n",
       "54363  3158793012207191175     LUCEMIR     CIQUEIRA FONTANA    M  33253321290   \n",
       "12463 -6673637092915800829   CLARINETE  SIPOLATTI ANCHESQUI    F  34760191283   \n",
       "67658   828581037115986165    RAILAINE         PERIM FAZOLI    F  35732244239   \n",
       "34356   825672131503258801      GRIELE      CANZIAN CALIARI    F  30878820205   \n",
       "73464  9195611098208229137  SEBASTIANE       GRIFFO TRANCHO    F  35393985541   \n",
       "27992 -2899076500120253986   EVANILSON      CIQUEIRA TOMASI    M  31297305590   \n",
       "\n",
       "               grau_instrucao  uf        cep      idade data_inscricao   rank  \n",
       "3417   fundamental incompleto  AC  69963-104  20.036735     2021-03-02   97.0  \n",
       "90265  fundamental incompleto  AC  69975-195  20.075957     2021-09-07  201.0  \n",
       "2645            sem instrucao  AL  57531-832  20.023260     2021-08-22   59.0  \n",
       "14492   ensino medio completo  AL  57695-314  20.006623     2021-12-12   20.0  \n",
       "54363    fundamental completo  AM  69573-496  19.749891     2021-11-04    3.0  \n",
       "12463  fundamental incompleto  AM  69642-437  20.000139     2021-07-17    5.0  \n",
       "67658       superior completo  AP  68997-292  20.018683     2021-08-31   51.0  \n",
       "34356  fundamental incompleto  AP  68902-037  20.053530     2021-03-18  139.0  \n",
       "73464   ensino medio completo  BA  46113-634  18.944867     2021-04-07    1.0  \n",
       "27992       superior completo  BA  48750-812  20.015089     2021-10-21   42.0  "
      ],
      "text/html": "<div>\n<style scoped>\n    .dataframe tbody tr th:only-of-type {\n        vertical-align: middle;\n    }\n\n    .dataframe tbody tr th {\n        vertical-align: top;\n    }\n\n    .dataframe thead th {\n        text-align: right;\n    }\n</style>\n<table border=\"1\" class=\"dataframe\">\n  <thead>\n    <tr style=\"text-align: right;\">\n      <th></th>\n      <th>id_cliente</th>\n      <th>nome</th>\n      <th>sobrenome</th>\n      <th>sexo</th>\n      <th>cpf</th>\n      <th>grau_instrucao</th>\n      <th>uf</th>\n      <th>cep</th>\n      <th>idade</th>\n      <th>data_inscricao</th>\n      <th>rank</th>\n    </tr>\n  </thead>\n  <tbody>\n    <tr>\n      <th>3417</th>\n      <td>-3515710187127789620</td>\n      <td>ALDENILO</td>\n      <td>LAGO LEAL</td>\n      <td>M</td>\n      <td>39313945223</td>\n      <td>fundamental incompleto</td>\n      <td>AC</td>\n      <td>69963-104</td>\n      <td>20.036735</td>\n      <td>2021-03-02</td>\n      <td>97.0</td>\n    </tr>\n    <tr>\n      <th>90265</th>\n      <td>3844132603624178588</td>\n      <td>LEIDILANE</td>\n      <td>CANZIAN MARANGON</td>\n      <td>F</td>\n      <td>30321966201</td>\n      <td>fundamental incompleto</td>\n      <td>AC</td>\n      <td>69975-195</td>\n      <td>20.075957</td>\n      <td>2021-09-07</td>\n      <td>201.0</td>\n    </tr>\n    <tr>\n      <th>2645</th>\n      <td>9042162596132933383</td>\n      <td>ALACIDIO</td>\n      <td>BUZON ROSAS</td>\n      <td>M</td>\n      <td>30978163486</td>\n      <td>sem instrucao</td>\n      <td>AL</td>\n      <td>57531-832</td>\n      <td>20.023260</td>\n      <td>2021-08-22</td>\n      <td>59.0</td>\n    </tr>\n    <tr>\n      <th>14492</th>\n      <td>-6748003961146701235</td>\n      <td>CREONILDO</td>\n      <td>FORAFO BUFFO</td>\n      <td>M</td>\n      <td>37402902420</td>\n      <td>ensino medio completo</td>\n      <td>AL</td>\n      <td>57695-314</td>\n      <td>20.006623</td>\n      <td>2021-12-12</td>\n      <td>20.0</td>\n    </tr>\n    <tr>\n      <th>54363</th>\n      <td>3158793012207191175</td>\n      <td>LUCEMIR</td>\n      <td>CIQUEIRA FONTANA</td>\n      <td>M</td>\n      <td>33253321290</td>\n      <td>fundamental completo</td>\n      <td>AM</td>\n      <td>69573-496</td>\n      <td>19.749891</td>\n      <td>2021-11-04</td>\n      <td>3.0</td>\n    </tr>\n    <tr>\n      <th>12463</th>\n      <td>-6673637092915800829</td>\n      <td>CLARINETE</td>\n      <td>SIPOLATTI ANCHESQUI</td>\n      <td>F</td>\n      <td>34760191283</td>\n      <td>fundamental incompleto</td>\n      <td>AM</td>\n      <td>69642-437</td>\n      <td>20.000139</td>\n      <td>2021-07-17</td>\n      <td>5.0</td>\n    </tr>\n    <tr>\n      <th>67658</th>\n      <td>828581037115986165</td>\n      <td>RAILAINE</td>\n      <td>PERIM FAZOLI</td>\n      <td>F</td>\n      <td>35732244239</td>\n      <td>superior completo</td>\n      <td>AP</td>\n      <td>68997-292</td>\n      <td>20.018683</td>\n      <td>2021-08-31</td>\n      <td>51.0</td>\n    </tr>\n    <tr>\n      <th>34356</th>\n      <td>825672131503258801</td>\n      <td>GRIELE</td>\n      <td>CANZIAN CALIARI</td>\n      <td>F</td>\n      <td>30878820205</td>\n      <td>fundamental incompleto</td>\n      <td>AP</td>\n      <td>68902-037</td>\n      <td>20.053530</td>\n      <td>2021-03-18</td>\n      <td>139.0</td>\n    </tr>\n    <tr>\n      <th>73464</th>\n      <td>9195611098208229137</td>\n      <td>SEBASTIANE</td>\n      <td>GRIFFO TRANCHO</td>\n      <td>F</td>\n      <td>35393985541</td>\n      <td>ensino medio completo</td>\n      <td>BA</td>\n      <td>46113-634</td>\n      <td>18.944867</td>\n      <td>2021-04-07</td>\n      <td>1.0</td>\n    </tr>\n    <tr>\n      <th>27992</th>\n      <td>-2899076500120253986</td>\n      <td>EVANILSON</td>\n      <td>CIQUEIRA TOMASI</td>\n      <td>M</td>\n      <td>31297305590</td>\n      <td>superior completo</td>\n      <td>BA</td>\n      <td>48750-812</td>\n      <td>20.015089</td>\n      <td>2021-10-21</td>\n      <td>42.0</td>\n    </tr>\n  </tbody>\n</table>\n</div>"
     },
     "metadata": {},
     "execution_count": 116
    }
   ],
   "source": [
    "# pegando os 2 mais novos por estado\n",
    "df[df.groupby('uf').idade.transform('rank', ascending = True) < 3].sort_values('uf').head(10)"
   ]
  },
  {
   "cell_type": "code",
   "execution_count": 117,
   "metadata": {},
   "outputs": [
    {
     "output_type": "execute_result",
     "data": {
      "text/plain": [
       "                id_cliente       nome           sobrenome sexo          cpf  \\\n",
       "84984   460088139190227577     EIICHI      CREMARD TONOLI    M  30614453232   \n",
       "46905  3701071896099818038      JUDAS         VILAR DALLA    M  30648770206   \n",
       "56386 -5888054486762616392  MANTOVANI     VICENTE SARAIVA    M  36951801452   \n",
       "78982  1339912110049725878   UERMESON  TAYLOR BATTISTELLA    M  39253480424   \n",
       "9920   7899307622649525702       BOAZ     MASSARDI RAMIRO    M  33399500246   \n",
       "\n",
       "              grau_instrucao  uf        cep      idade data_inscricao  \\\n",
       "84984  ensino medio completo  AC  69972-555  57.781011     2021-08-02   \n",
       "46905      superior completo  AC  69920-320  63.656237     2021-01-10   \n",
       "56386      superior completo  AL  57222-788  64.580702     2021-12-06   \n",
       "78982      superior completo  AL  57490-694  78.351208     2021-10-13   \n",
       "9920    fundamental completo  AM  69756-306  63.452914     2021-03-27   \n",
       "\n",
       "           rank  \n",
       "84984  100498.0  \n",
       "46905  100734.0  \n",
       "56386  100751.0  \n",
       "78982  100787.0  \n",
       "9920   100733.0  "
      ],
      "text/html": "<div>\n<style scoped>\n    .dataframe tbody tr th:only-of-type {\n        vertical-align: middle;\n    }\n\n    .dataframe tbody tr th {\n        vertical-align: top;\n    }\n\n    .dataframe thead th {\n        text-align: right;\n    }\n</style>\n<table border=\"1\" class=\"dataframe\">\n  <thead>\n    <tr style=\"text-align: right;\">\n      <th></th>\n      <th>id_cliente</th>\n      <th>nome</th>\n      <th>sobrenome</th>\n      <th>sexo</th>\n      <th>cpf</th>\n      <th>grau_instrucao</th>\n      <th>uf</th>\n      <th>cep</th>\n      <th>idade</th>\n      <th>data_inscricao</th>\n      <th>rank</th>\n    </tr>\n  </thead>\n  <tbody>\n    <tr>\n      <th>84984</th>\n      <td>460088139190227577</td>\n      <td>EIICHI</td>\n      <td>CREMARD TONOLI</td>\n      <td>M</td>\n      <td>30614453232</td>\n      <td>ensino medio completo</td>\n      <td>AC</td>\n      <td>69972-555</td>\n      <td>57.781011</td>\n      <td>2021-08-02</td>\n      <td>100498.0</td>\n    </tr>\n    <tr>\n      <th>46905</th>\n      <td>3701071896099818038</td>\n      <td>JUDAS</td>\n      <td>VILAR DALLA</td>\n      <td>M</td>\n      <td>30648770206</td>\n      <td>superior completo</td>\n      <td>AC</td>\n      <td>69920-320</td>\n      <td>63.656237</td>\n      <td>2021-01-10</td>\n      <td>100734.0</td>\n    </tr>\n    <tr>\n      <th>56386</th>\n      <td>-5888054486762616392</td>\n      <td>MANTOVANI</td>\n      <td>VICENTE SARAIVA</td>\n      <td>M</td>\n      <td>36951801452</td>\n      <td>superior completo</td>\n      <td>AL</td>\n      <td>57222-788</td>\n      <td>64.580702</td>\n      <td>2021-12-06</td>\n      <td>100751.0</td>\n    </tr>\n    <tr>\n      <th>78982</th>\n      <td>1339912110049725878</td>\n      <td>UERMESON</td>\n      <td>TAYLOR BATTISTELLA</td>\n      <td>M</td>\n      <td>39253480424</td>\n      <td>superior completo</td>\n      <td>AL</td>\n      <td>57490-694</td>\n      <td>78.351208</td>\n      <td>2021-10-13</td>\n      <td>100787.0</td>\n    </tr>\n    <tr>\n      <th>9920</th>\n      <td>7899307622649525702</td>\n      <td>BOAZ</td>\n      <td>MASSARDI RAMIRO</td>\n      <td>M</td>\n      <td>33399500246</td>\n      <td>fundamental completo</td>\n      <td>AM</td>\n      <td>69756-306</td>\n      <td>63.452914</td>\n      <td>2021-03-27</td>\n      <td>100733.0</td>\n    </tr>\n  </tbody>\n</table>\n</div>"
     },
     "metadata": {},
     "execution_count": 117
    }
   ],
   "source": [
    "# pegando os 2 mais velhos por estado\n",
    "df[df.groupby('uf').idade.transform('rank', ascending = False) < 3].sort_values('uf').head()"
   ]
  },
  {
   "cell_type": "code",
   "execution_count": 138,
   "metadata": {},
   "outputs": [
    {
     "output_type": "execute_result",
     "data": {
      "text/plain": [
       "       id_cliente    cpf  idade   rank  media_idade_mes\n",
       "8999         57.0  137.0    1.0    1.0            110.5\n",
       "78301        58.0  102.0    1.0    1.0             91.0\n",
       "92360       629.0  791.0    1.0    1.0            408.5\n",
       "81573       223.0   81.0    1.0    1.0            189.0\n",
       "39583        77.0   24.0    1.0    1.0             85.0\n",
       "...           ...    ...    ...    ...              ...\n",
       "27526       908.0  619.0  919.0  919.0            462.0\n",
       "98555       630.0  890.0  920.0  920.0            462.0\n",
       "59294       787.0  697.0  921.0  921.0            462.0\n",
       "62109       175.0   30.0  922.0  922.0            462.0\n",
       "40044       468.0  906.0  923.0  923.0            462.0\n",
       "\n",
       "[100787 rows x 5 columns]"
      ],
      "text/html": "<div>\n<style scoped>\n    .dataframe tbody tr th:only-of-type {\n        vertical-align: middle;\n    }\n\n    .dataframe tbody tr th {\n        vertical-align: top;\n    }\n\n    .dataframe thead th {\n        text-align: right;\n    }\n</style>\n<table border=\"1\" class=\"dataframe\">\n  <thead>\n    <tr style=\"text-align: right;\">\n      <th></th>\n      <th>id_cliente</th>\n      <th>cpf</th>\n      <th>idade</th>\n      <th>rank</th>\n      <th>media_idade_mes</th>\n    </tr>\n  </thead>\n  <tbody>\n    <tr>\n      <th>8999</th>\n      <td>57.0</td>\n      <td>137.0</td>\n      <td>1.0</td>\n      <td>1.0</td>\n      <td>110.5</td>\n    </tr>\n    <tr>\n      <th>78301</th>\n      <td>58.0</td>\n      <td>102.0</td>\n      <td>1.0</td>\n      <td>1.0</td>\n      <td>91.0</td>\n    </tr>\n    <tr>\n      <th>92360</th>\n      <td>629.0</td>\n      <td>791.0</td>\n      <td>1.0</td>\n      <td>1.0</td>\n      <td>408.5</td>\n    </tr>\n    <tr>\n      <th>81573</th>\n      <td>223.0</td>\n      <td>81.0</td>\n      <td>1.0</td>\n      <td>1.0</td>\n      <td>189.0</td>\n    </tr>\n    <tr>\n      <th>39583</th>\n      <td>77.0</td>\n      <td>24.0</td>\n      <td>1.0</td>\n      <td>1.0</td>\n      <td>85.0</td>\n    </tr>\n    <tr>\n      <th>...</th>\n      <td>...</td>\n      <td>...</td>\n      <td>...</td>\n      <td>...</td>\n      <td>...</td>\n    </tr>\n    <tr>\n      <th>27526</th>\n      <td>908.0</td>\n      <td>619.0</td>\n      <td>919.0</td>\n      <td>919.0</td>\n      <td>462.0</td>\n    </tr>\n    <tr>\n      <th>98555</th>\n      <td>630.0</td>\n      <td>890.0</td>\n      <td>920.0</td>\n      <td>920.0</td>\n      <td>462.0</td>\n    </tr>\n    <tr>\n      <th>59294</th>\n      <td>787.0</td>\n      <td>697.0</td>\n      <td>921.0</td>\n      <td>921.0</td>\n      <td>462.0</td>\n    </tr>\n    <tr>\n      <th>62109</th>\n      <td>175.0</td>\n      <td>30.0</td>\n      <td>922.0</td>\n      <td>922.0</td>\n      <td>462.0</td>\n    </tr>\n    <tr>\n      <th>40044</th>\n      <td>468.0</td>\n      <td>906.0</td>\n      <td>923.0</td>\n      <td>923.0</td>\n      <td>462.0</td>\n    </tr>\n  </tbody>\n</table>\n<p>100787 rows × 5 columns</p>\n</div>"
     },
     "metadata": {},
     "execution_count": 138
    }
   ],
   "source": [
    "df.groupby([pd.Grouper(key = 'data_inscricao', freq = 'MS'),'uf']).rank().sort_values('idade')"
   ]
  },
  {
   "cell_type": "code",
   "execution_count": 146,
   "metadata": {},
   "outputs": [
    {
     "output_type": "execute_result",
     "data": {
      "text/plain": [
       "                 id_cliente       nome           sobrenome sexo          cpf  \\\n",
       "181     5670862396406963028     ABMAEL        FRAGA PICCIN    M  34873371775   \n",
       "264    -2033894959365581216   ACENILDE   CONCIANI MANFREDO    F  35481482398   \n",
       "740     4991150111225857619   ADEJALMA  SIPOLATTI MARCHESE    M  33637269457   \n",
       "781    -5169691197225633011   ADELAINE  STEBENNE GUILHERME    F  31966856245   \n",
       "932    -5269948065444004860   ADELZITA     MAJESKI CALIXTO    F  30404648410   \n",
       "...                     ...        ...                 ...  ...          ...   \n",
       "98456    289766412726500061       CHAN   ZANARDO GRASSETTO    M  35877409255   \n",
       "99374   5029294496592137510    BELZAIR   FRAGA PIAZZAROLLO    F  30267710402   \n",
       "99664    178775906414138836  EISANGELA      MOSCHON WALKER    F  36198779807   \n",
       "100011 -4593495097819135336    DABIELE    MINIGUITE DORIGO    F  31040593909   \n",
       "100111  4934843783676759874  SIZINANDO     TAYLOR ANDREÃO    M  38280985174   \n",
       "\n",
       "                 grau_instrucao  uf        cep      idade data_inscricao  \\\n",
       "181       ensino medio completo  ES  29158-843  20.136553     2021-12-03   \n",
       "264      fundamental incompleto  PI  64576-433  20.119907     2021-02-07   \n",
       "740      fundamental incompleto  AL  57402-468  20.035547     2021-05-01   \n",
       "781     ensino medio incompleto  AM  69499-920  20.055990     2021-10-23   \n",
       "932      fundamental incompleto  AL  57506-347  20.263356     2021-03-05   \n",
       "...                         ...  ..        ...        ...            ...   \n",
       "98456    fundamental incompleto  AM  69482-229  20.280981     2021-08-22   \n",
       "99374     ensino medio completo  RN  59780-177  20.286134     2021-06-13   \n",
       "99664     ensino medio completo  SP  10615-362  20.031377     2021-03-30   \n",
       "100011            sem instrucao  PR  84820-819  20.042765     2021-01-02   \n",
       "100111        superior completo  GO  75281-171  20.213852     2021-03-14   \n",
       "\n",
       "         rank  media_idade_mes  \n",
       "181     391.0        32.550596  \n",
       "264     342.0        31.226222  \n",
       "740      94.0        32.055037  \n",
       "781     148.0        31.659221  \n",
       "932     762.0        31.734344  \n",
       "...       ...              ...  \n",
       "98456   819.0        32.906618  \n",
       "99374   838.0        31.979124  \n",
       "99664    78.0        31.500008  \n",
       "100011  121.0        31.269617  \n",
       "100111  602.0        31.880786  \n",
       "\n",
       "[324 rows x 12 columns]"
      ],
      "text/html": "<div>\n<style scoped>\n    .dataframe tbody tr th:only-of-type {\n        vertical-align: middle;\n    }\n\n    .dataframe tbody tr th {\n        vertical-align: top;\n    }\n\n    .dataframe thead th {\n        text-align: right;\n    }\n</style>\n<table border=\"1\" class=\"dataframe\">\n  <thead>\n    <tr style=\"text-align: right;\">\n      <th></th>\n      <th>id_cliente</th>\n      <th>nome</th>\n      <th>sobrenome</th>\n      <th>sexo</th>\n      <th>cpf</th>\n      <th>grau_instrucao</th>\n      <th>uf</th>\n      <th>cep</th>\n      <th>idade</th>\n      <th>data_inscricao</th>\n      <th>rank</th>\n      <th>media_idade_mes</th>\n    </tr>\n  </thead>\n  <tbody>\n    <tr>\n      <th>181</th>\n      <td>5670862396406963028</td>\n      <td>ABMAEL</td>\n      <td>FRAGA PICCIN</td>\n      <td>M</td>\n      <td>34873371775</td>\n      <td>ensino medio completo</td>\n      <td>ES</td>\n      <td>29158-843</td>\n      <td>20.136553</td>\n      <td>2021-12-03</td>\n      <td>391.0</td>\n      <td>32.550596</td>\n    </tr>\n    <tr>\n      <th>264</th>\n      <td>-2033894959365581216</td>\n      <td>ACENILDE</td>\n      <td>CONCIANI MANFREDO</td>\n      <td>F</td>\n      <td>35481482398</td>\n      <td>fundamental incompleto</td>\n      <td>PI</td>\n      <td>64576-433</td>\n      <td>20.119907</td>\n      <td>2021-02-07</td>\n      <td>342.0</td>\n      <td>31.226222</td>\n    </tr>\n    <tr>\n      <th>740</th>\n      <td>4991150111225857619</td>\n      <td>ADEJALMA</td>\n      <td>SIPOLATTI MARCHESE</td>\n      <td>M</td>\n      <td>33637269457</td>\n      <td>fundamental incompleto</td>\n      <td>AL</td>\n      <td>57402-468</td>\n      <td>20.035547</td>\n      <td>2021-05-01</td>\n      <td>94.0</td>\n      <td>32.055037</td>\n    </tr>\n    <tr>\n      <th>781</th>\n      <td>-5169691197225633011</td>\n      <td>ADELAINE</td>\n      <td>STEBENNE GUILHERME</td>\n      <td>F</td>\n      <td>31966856245</td>\n      <td>ensino medio incompleto</td>\n      <td>AM</td>\n      <td>69499-920</td>\n      <td>20.055990</td>\n      <td>2021-10-23</td>\n      <td>148.0</td>\n      <td>31.659221</td>\n    </tr>\n    <tr>\n      <th>932</th>\n      <td>-5269948065444004860</td>\n      <td>ADELZITA</td>\n      <td>MAJESKI CALIXTO</td>\n      <td>F</td>\n      <td>30404648410</td>\n      <td>fundamental incompleto</td>\n      <td>AL</td>\n      <td>57506-347</td>\n      <td>20.263356</td>\n      <td>2021-03-05</td>\n      <td>762.0</td>\n      <td>31.734344</td>\n    </tr>\n    <tr>\n      <th>...</th>\n      <td>...</td>\n      <td>...</td>\n      <td>...</td>\n      <td>...</td>\n      <td>...</td>\n      <td>...</td>\n      <td>...</td>\n      <td>...</td>\n      <td>...</td>\n      <td>...</td>\n      <td>...</td>\n      <td>...</td>\n    </tr>\n    <tr>\n      <th>98456</th>\n      <td>289766412726500061</td>\n      <td>CHAN</td>\n      <td>ZANARDO GRASSETTO</td>\n      <td>M</td>\n      <td>35877409255</td>\n      <td>fundamental incompleto</td>\n      <td>AM</td>\n      <td>69482-229</td>\n      <td>20.280981</td>\n      <td>2021-08-22</td>\n      <td>819.0</td>\n      <td>32.906618</td>\n    </tr>\n    <tr>\n      <th>99374</th>\n      <td>5029294496592137510</td>\n      <td>BELZAIR</td>\n      <td>FRAGA PIAZZAROLLO</td>\n      <td>F</td>\n      <td>30267710402</td>\n      <td>ensino medio completo</td>\n      <td>RN</td>\n      <td>59780-177</td>\n      <td>20.286134</td>\n      <td>2021-06-13</td>\n      <td>838.0</td>\n      <td>31.979124</td>\n    </tr>\n    <tr>\n      <th>99664</th>\n      <td>178775906414138836</td>\n      <td>EISANGELA</td>\n      <td>MOSCHON WALKER</td>\n      <td>F</td>\n      <td>36198779807</td>\n      <td>ensino medio completo</td>\n      <td>SP</td>\n      <td>10615-362</td>\n      <td>20.031377</td>\n      <td>2021-03-30</td>\n      <td>78.0</td>\n      <td>31.500008</td>\n    </tr>\n    <tr>\n      <th>100011</th>\n      <td>-4593495097819135336</td>\n      <td>DABIELE</td>\n      <td>MINIGUITE DORIGO</td>\n      <td>F</td>\n      <td>31040593909</td>\n      <td>sem instrucao</td>\n      <td>PR</td>\n      <td>84820-819</td>\n      <td>20.042765</td>\n      <td>2021-01-02</td>\n      <td>121.0</td>\n      <td>31.269617</td>\n    </tr>\n    <tr>\n      <th>100111</th>\n      <td>4934843783676759874</td>\n      <td>SIZINANDO</td>\n      <td>TAYLOR ANDREÃO</td>\n      <td>M</td>\n      <td>38280985174</td>\n      <td>superior completo</td>\n      <td>GO</td>\n      <td>75281-171</td>\n      <td>20.213852</td>\n      <td>2021-03-14</td>\n      <td>602.0</td>\n      <td>31.880786</td>\n    </tr>\n  </tbody>\n</table>\n<p>324 rows × 12 columns</p>\n</div>"
     },
     "metadata": {},
     "execution_count": 146
    }
   ],
   "source": [
    "df[df.groupby([pd.Grouper(key = 'data_inscricao', freq = 'MS'),'uf']).rank()['idade'] == 1]"
   ]
  },
  {
   "cell_type": "code",
   "execution_count": null,
   "metadata": {},
   "outputs": [],
   "source": []
  }
 ]
}