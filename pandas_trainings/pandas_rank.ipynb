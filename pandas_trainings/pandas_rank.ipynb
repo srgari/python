{
 "metadata": {
  "language_info": {
   "codemirror_mode": {
    "name": "ipython",
    "version": 3
   },
   "file_extension": ".py",
   "mimetype": "text/x-python",
   "name": "python",
   "nbconvert_exporter": "python",
   "pygments_lexer": "ipython3",
   "version": "3.8.5"
  },
  "orig_nbformat": 2,
  "kernelspec": {
   "name": "python385jvsc74a57bd02db524e06e9f5f4ffedc911c917cb75e12dbc923643829bf417064a77eb14d37",
   "display_name": "Python 3.8.5 64-bit"
  },
  "metadata": {
   "interpreter": {
    "hash": "2db524e06e9f5f4ffedc911c917cb75e12dbc923643829bf417064a77eb14d37"
   }
  }
 },
 "nbformat": 4,
 "nbformat_minor": 2,
 "cells": [
  {
   "cell_type": "code",
   "execution_count": 18,
   "metadata": {},
   "outputs": [
    {
     "output_type": "execute_result",
     "data": {
      "text/plain": [
       "            id_cliente   nome                sobrenome sexo          cpf  \\\n",
       "0 -4835863059640323805  ALINE           BETTIN BAIENSE    F  36919884666   \n",
       "1 -7812228504367106399   ARAO  RASMUSEN TYRNE FUMANESI    M  30289361869   \n",
       "2  -615496062623175771   ARON       VICENTE GOMES LUIS    M  31520745060   \n",
       "3  4549084384535614861    ADA          BUZON SCANFERLA    F  31564113612   \n",
       "4  8127233580870673453  ABADE        DE MORAES LOVATEL    M  36849054538   \n",
       "\n",
       "           grau_instrucao  uf        cep      idade  \n",
       "0    fundamental completo  MG  32401-614  25.653283  \n",
       "1  fundamental incompleto  SP  15253-864  29.496348  \n",
       "2  fundamental incompleto  RS  92776-450  21.745232  \n",
       "3   ensino medio completo  MG  30201-433  23.807220  \n",
       "4  fundamental incompleto  BA  45908-655  31.831435  "
      ],
      "text/html": "<div>\n<style scoped>\n    .dataframe tbody tr th:only-of-type {\n        vertical-align: middle;\n    }\n\n    .dataframe tbody tr th {\n        vertical-align: top;\n    }\n\n    .dataframe thead th {\n        text-align: right;\n    }\n</style>\n<table border=\"1\" class=\"dataframe\">\n  <thead>\n    <tr style=\"text-align: right;\">\n      <th></th>\n      <th>id_cliente</th>\n      <th>nome</th>\n      <th>sobrenome</th>\n      <th>sexo</th>\n      <th>cpf</th>\n      <th>grau_instrucao</th>\n      <th>uf</th>\n      <th>cep</th>\n      <th>idade</th>\n    </tr>\n  </thead>\n  <tbody>\n    <tr>\n      <th>0</th>\n      <td>-4835863059640323805</td>\n      <td>ALINE</td>\n      <td>BETTIN BAIENSE</td>\n      <td>F</td>\n      <td>36919884666</td>\n      <td>fundamental completo</td>\n      <td>MG</td>\n      <td>32401-614</td>\n      <td>25.653283</td>\n    </tr>\n    <tr>\n      <th>1</th>\n      <td>-7812228504367106399</td>\n      <td>ARAO</td>\n      <td>RASMUSEN TYRNE FUMANESI</td>\n      <td>M</td>\n      <td>30289361869</td>\n      <td>fundamental incompleto</td>\n      <td>SP</td>\n      <td>15253-864</td>\n      <td>29.496348</td>\n    </tr>\n    <tr>\n      <th>2</th>\n      <td>-615496062623175771</td>\n      <td>ARON</td>\n      <td>VICENTE GOMES LUIS</td>\n      <td>M</td>\n      <td>31520745060</td>\n      <td>fundamental incompleto</td>\n      <td>RS</td>\n      <td>92776-450</td>\n      <td>21.745232</td>\n    </tr>\n    <tr>\n      <th>3</th>\n      <td>4549084384535614861</td>\n      <td>ADA</td>\n      <td>BUZON SCANFERLA</td>\n      <td>F</td>\n      <td>31564113612</td>\n      <td>ensino medio completo</td>\n      <td>MG</td>\n      <td>30201-433</td>\n      <td>23.807220</td>\n    </tr>\n    <tr>\n      <th>4</th>\n      <td>8127233580870673453</td>\n      <td>ABADE</td>\n      <td>DE MORAES LOVATEL</td>\n      <td>M</td>\n      <td>36849054538</td>\n      <td>fundamental incompleto</td>\n      <td>BA</td>\n      <td>45908-655</td>\n      <td>31.831435</td>\n    </tr>\n  </tbody>\n</table>\n</div>"
     },
     "metadata": {},
     "execution_count": 18
    }
   ],
   "source": [
    "import pandas as pd \n",
    "\n",
    "df = pd.read_csv(r'E:\\Users\\Sergio\\OneDrive\\git\\python\\fake_datasets\\csv\\dados_clientes.csv', encoding= 'latin')\n",
    "df.head()"
   ]
  },
  {
   "cell_type": "code",
   "execution_count": 28,
   "metadata": {},
   "outputs": [
    {
     "output_type": "stream",
     "name": "stdout",
     "text": [
      "Help on method rank in module pandas.core.generic:\n\nrank(axis=0, method: str = 'average', numeric_only: Union[bool, NoneType] = None, na_option: str = 'keep', ascending: bool = True, pct: bool = False) -> ~FrameOrSeries method of pandas.core.frame.DataFrame instance\n    Compute numerical data ranks (1 through n) along axis.\n    \n    By default, equal values are assigned a rank that is the average of the\n    ranks of those values.\n    \n    Parameters\n    ----------\n    axis : {0 or 'index', 1 or 'columns'}, default 0\n        Index to direct ranking.\n    method : {'average', 'min', 'max', 'first', 'dense'}, default 'average'\n        How to rank the group of records that have the same value (i.e. ties):\n    \n        * average: average rank of the group\n        * min: lowest rank in the group\n        * max: highest rank in the group\n        * first: ranks assigned in order they appear in the array\n        * dense: like 'min', but rank always increases by 1 between groups.\n    \n    numeric_only : bool, optional\n        For DataFrame objects, rank only numeric columns if set to True.\n    na_option : {'keep', 'top', 'bottom'}, default 'keep'\n        How to rank NaN values:\n    \n        * keep: assign NaN rank to NaN values\n        * top: assign smallest rank to NaN values if ascending\n        * bottom: assign highest rank to NaN values if ascending.\n    \n    ascending : bool, default True\n        Whether or not the elements should be ranked in ascending order.\n    pct : bool, default False\n        Whether or not to display the returned rankings in percentile\n        form.\n    \n    Returns\n    -------\n    same type as caller\n        Return a Series or DataFrame with data ranks as values.\n    \n    See Also\n    --------\n    core.groupby.GroupBy.rank : Rank of values within each group.\n    \n    Examples\n    --------\n    >>> df = pd.DataFrame(data={'Animal': ['cat', 'penguin', 'dog',\n    ...                                    'spider', 'snake'],\n    ...                         'Number_legs': [4, 2, 4, 8, np.nan]})\n    >>> df\n        Animal  Number_legs\n    0      cat          4.0\n    1  penguin          2.0\n    2      dog          4.0\n    3   spider          8.0\n    4    snake          NaN\n    \n    The following example shows how the method behaves with the above\n    parameters:\n    \n    * default_rank: this is the default behaviour obtained without using\n      any parameter.\n    * max_rank: setting ``method = 'max'`` the records that have the\n      same values are ranked using the highest rank (e.g.: since 'cat'\n      and 'dog' are both in the 2nd and 3rd position, rank 3 is assigned.)\n    * NA_bottom: choosing ``na_option = 'bottom'``, if there are records\n      with NaN values they are placed at the bottom of the ranking.\n    * pct_rank: when setting ``pct = True``, the ranking is expressed as\n      percentile rank.\n    \n    >>> df['default_rank'] = df['Number_legs'].rank()\n    >>> df['max_rank'] = df['Number_legs'].rank(method='max')\n    >>> df['NA_bottom'] = df['Number_legs'].rank(na_option='bottom')\n    >>> df['pct_rank'] = df['Number_legs'].rank(pct=True)\n    >>> df\n        Animal  Number_legs  default_rank  max_rank  NA_bottom  pct_rank\n    0      cat          4.0           2.5       3.0        2.5     0.625\n    1  penguin          2.0           1.0       1.0        1.0     0.250\n    2      dog          4.0           2.5       3.0        2.5     0.625\n    3   spider          8.0           4.0       4.0        4.0     1.000\n    4    snake          NaN           NaN       NaN        5.0       NaN\n\n"
     ]
    }
   ],
   "source": [
    "help(df.rank)"
   ]
  },
  {
   "cell_type": "code",
   "execution_count": 50,
   "metadata": {},
   "outputs": [
    {
     "output_type": "execute_result",
     "data": {
      "text/plain": [
       "             nome      idade      rank\n",
       "90519        GINI  19.677974       1.0\n",
       "76466      TAIANI  20.000100       2.0\n",
       "69438  RIANDERSON  20.000463       3.0\n",
       "30206   GARBRIELA  20.000571       4.0\n",
       "18772      DILCEA  20.001151       5.0\n",
       "...           ...        ...       ...\n",
       "43563      JULIAN  68.692147  100783.0\n",
       "79614  VALDELICIO  69.535645  100784.0\n",
       "86684    ADAILTON  70.877519  100785.0\n",
       "91683       GERSE  71.585342  100786.0\n",
       "84230       WELHO  76.191177  100787.0\n",
       "\n",
       "[100787 rows x 3 columns]"
      ],
      "text/html": "<div>\n<style scoped>\n    .dataframe tbody tr th:only-of-type {\n        vertical-align: middle;\n    }\n\n    .dataframe tbody tr th {\n        vertical-align: top;\n    }\n\n    .dataframe thead th {\n        text-align: right;\n    }\n</style>\n<table border=\"1\" class=\"dataframe\">\n  <thead>\n    <tr style=\"text-align: right;\">\n      <th></th>\n      <th>nome</th>\n      <th>idade</th>\n      <th>rank</th>\n    </tr>\n  </thead>\n  <tbody>\n    <tr>\n      <th>90519</th>\n      <td>GINI</td>\n      <td>19.677974</td>\n      <td>1.0</td>\n    </tr>\n    <tr>\n      <th>76466</th>\n      <td>TAIANI</td>\n      <td>20.000100</td>\n      <td>2.0</td>\n    </tr>\n    <tr>\n      <th>69438</th>\n      <td>RIANDERSON</td>\n      <td>20.000463</td>\n      <td>3.0</td>\n    </tr>\n    <tr>\n      <th>30206</th>\n      <td>GARBRIELA</td>\n      <td>20.000571</td>\n      <td>4.0</td>\n    </tr>\n    <tr>\n      <th>18772</th>\n      <td>DILCEA</td>\n      <td>20.001151</td>\n      <td>5.0</td>\n    </tr>\n    <tr>\n      <th>...</th>\n      <td>...</td>\n      <td>...</td>\n      <td>...</td>\n    </tr>\n    <tr>\n      <th>43563</th>\n      <td>JULIAN</td>\n      <td>68.692147</td>\n      <td>100783.0</td>\n    </tr>\n    <tr>\n      <th>79614</th>\n      <td>VALDELICIO</td>\n      <td>69.535645</td>\n      <td>100784.0</td>\n    </tr>\n    <tr>\n      <th>86684</th>\n      <td>ADAILTON</td>\n      <td>70.877519</td>\n      <td>100785.0</td>\n    </tr>\n    <tr>\n      <th>91683</th>\n      <td>GERSE</td>\n      <td>71.585342</td>\n      <td>100786.0</td>\n    </tr>\n    <tr>\n      <th>84230</th>\n      <td>WELHO</td>\n      <td>76.191177</td>\n      <td>100787.0</td>\n    </tr>\n  </tbody>\n</table>\n<p>100787 rows × 3 columns</p>\n</div>"
     },
     "metadata": {},
     "execution_count": 50
    }
   ],
   "source": [
    "df['rank'] = df.idade.rank()\n",
    "df.sort_values('idade')[['nome','idade','rank']]"
   ]
  },
  {
   "cell_type": "code",
   "execution_count": 51,
   "metadata": {},
   "outputs": [
    {
     "output_type": "execute_result",
     "data": {
      "text/plain": [
       "                id_cliente    nome           sobrenome sexo          cpf  \\\n",
       "76466  1984718481367674904  TAIANI     BINELLE LEITÃO    F  36266767570   \n",
       "90519 -1179872305920289353    GINI  DE ANGELI MARCHESE    F  33123833666   \n",
       "\n",
       "               grau_instrucao  uf        cep      idade  rank  \n",
       "76466           sem instrucao  BA  44808-256  20.000100   2.0  \n",
       "90519  fundamental incompleto  MG  37986-654  19.677974   1.0  "
      ],
      "text/html": "<div>\n<style scoped>\n    .dataframe tbody tr th:only-of-type {\n        vertical-align: middle;\n    }\n\n    .dataframe tbody tr th {\n        vertical-align: top;\n    }\n\n    .dataframe thead th {\n        text-align: right;\n    }\n</style>\n<table border=\"1\" class=\"dataframe\">\n  <thead>\n    <tr style=\"text-align: right;\">\n      <th></th>\n      <th>id_cliente</th>\n      <th>nome</th>\n      <th>sobrenome</th>\n      <th>sexo</th>\n      <th>cpf</th>\n      <th>grau_instrucao</th>\n      <th>uf</th>\n      <th>cep</th>\n      <th>idade</th>\n      <th>rank</th>\n    </tr>\n  </thead>\n  <tbody>\n    <tr>\n      <th>76466</th>\n      <td>1984718481367674904</td>\n      <td>TAIANI</td>\n      <td>BINELLE LEITÃO</td>\n      <td>F</td>\n      <td>36266767570</td>\n      <td>sem instrucao</td>\n      <td>BA</td>\n      <td>44808-256</td>\n      <td>20.000100</td>\n      <td>2.0</td>\n    </tr>\n    <tr>\n      <th>90519</th>\n      <td>-1179872305920289353</td>\n      <td>GINI</td>\n      <td>DE ANGELI MARCHESE</td>\n      <td>F</td>\n      <td>33123833666</td>\n      <td>fundamental incompleto</td>\n      <td>MG</td>\n      <td>37986-654</td>\n      <td>19.677974</td>\n      <td>1.0</td>\n    </tr>\n  </tbody>\n</table>\n</div>"
     },
     "metadata": {},
     "execution_count": 51
    }
   ],
   "source": [
    "df.query('idade.rank() < 3')"
   ]
  },
  {
   "cell_type": "code",
   "execution_count": 52,
   "metadata": {},
   "outputs": [
    {
     "output_type": "execute_result",
     "data": {
      "text/plain": [
       "            nome                sobrenome          grau_instrucao\n",
       "0          ALINE           BETTIN BAIENSE    fundamental completo\n",
       "1           ARAO  RASMUSEN TYRNE FUMANESI  fundamental incompleto\n",
       "2           ARON       VICENTE GOMES LUIS  fundamental incompleto\n",
       "3            ADA          BUZON SCANFERLA   ensino medio completo\n",
       "4          ABADE        DE MORAES LOVATEL  fundamental incompleto\n",
       "...          ...                      ...                     ...\n",
       "100782  MACILEIA           MONENTE PIASSI   ensino medio completo\n",
       "100783    JALINE     CREMARD BRANCAGLIONI   ensino medio completo\n",
       "100784  DEMILTON       MENEGARDO DAL PIAZ       superior completo\n",
       "100785     LIVIA           RIZZO SANDRINI       superior completo\n",
       "100786    FABSON         CANZIAN CARLESSO  fundamental incompleto\n",
       "\n",
       "[100787 rows x 3 columns]"
      ],
      "text/html": "<div>\n<style scoped>\n    .dataframe tbody tr th:only-of-type {\n        vertical-align: middle;\n    }\n\n    .dataframe tbody tr th {\n        vertical-align: top;\n    }\n\n    .dataframe thead th {\n        text-align: right;\n    }\n</style>\n<table border=\"1\" class=\"dataframe\">\n  <thead>\n    <tr style=\"text-align: right;\">\n      <th></th>\n      <th>nome</th>\n      <th>sobrenome</th>\n      <th>grau_instrucao</th>\n    </tr>\n  </thead>\n  <tbody>\n    <tr>\n      <th>0</th>\n      <td>ALINE</td>\n      <td>BETTIN BAIENSE</td>\n      <td>fundamental completo</td>\n    </tr>\n    <tr>\n      <th>1</th>\n      <td>ARAO</td>\n      <td>RASMUSEN TYRNE FUMANESI</td>\n      <td>fundamental incompleto</td>\n    </tr>\n    <tr>\n      <th>2</th>\n      <td>ARON</td>\n      <td>VICENTE GOMES LUIS</td>\n      <td>fundamental incompleto</td>\n    </tr>\n    <tr>\n      <th>3</th>\n      <td>ADA</td>\n      <td>BUZON SCANFERLA</td>\n      <td>ensino medio completo</td>\n    </tr>\n    <tr>\n      <th>4</th>\n      <td>ABADE</td>\n      <td>DE MORAES LOVATEL</td>\n      <td>fundamental incompleto</td>\n    </tr>\n    <tr>\n      <th>...</th>\n      <td>...</td>\n      <td>...</td>\n      <td>...</td>\n    </tr>\n    <tr>\n      <th>100782</th>\n      <td>MACILEIA</td>\n      <td>MONENTE PIASSI</td>\n      <td>ensino medio completo</td>\n    </tr>\n    <tr>\n      <th>100783</th>\n      <td>JALINE</td>\n      <td>CREMARD BRANCAGLIONI</td>\n      <td>ensino medio completo</td>\n    </tr>\n    <tr>\n      <th>100784</th>\n      <td>DEMILTON</td>\n      <td>MENEGARDO DAL PIAZ</td>\n      <td>superior completo</td>\n    </tr>\n    <tr>\n      <th>100785</th>\n      <td>LIVIA</td>\n      <td>RIZZO SANDRINI</td>\n      <td>superior completo</td>\n    </tr>\n    <tr>\n      <th>100786</th>\n      <td>FABSON</td>\n      <td>CANZIAN CARLESSO</td>\n      <td>fundamental incompleto</td>\n    </tr>\n  </tbody>\n</table>\n<p>100787 rows × 3 columns</p>\n</div>"
     },
     "metadata": {},
     "execution_count": 52
    }
   ],
   "source": [
    "df.filter(regex = 'nome|instruc')"
   ]
  },
  {
   "cell_type": "code",
   "execution_count": 40,
   "metadata": {},
   "outputs": [
    {
     "output_type": "execute_result",
     "data": {
      "text/plain": [
       "                 id_cliente      nome                sobrenome sexo  \\\n",
       "0      -4835863059640323805     ALINE           BETTIN BAIENSE    F   \n",
       "1      -7812228504367106399      ARAO  RASMUSEN TYRNE FUMANESI    M   \n",
       "2       -615496062623175771      ARON       VICENTE GOMES LUIS    M   \n",
       "3       4549084384535614861       ADA          BUZON SCANFERLA    F   \n",
       "4       8127233580870673453     ABADE        DE MORAES LOVATEL    M   \n",
       "...                     ...       ...                      ...  ...   \n",
       "100782 -6096263413536836676  MACILEIA           MONENTE PIASSI    F   \n",
       "100783 -8454082737859566393    JALINE     CREMARD BRANCAGLIONI    F   \n",
       "100784 -8614779537790932317  DEMILTON       MENEGARDO DAL PIAZ    M   \n",
       "100785  3394636096682398032     LIVIA           RIZZO SANDRINI    F   \n",
       "100786  1624599237057774553    FABSON         CANZIAN CARLESSO    M   \n",
       "\n",
       "                cpf          grau_instrucao  uf        cep      idade     rank  \n",
       "0       36919884666    fundamental completo  MG  32401-614  25.653283  77268.0  \n",
       "1       30289361869  fundamental incompleto  SP  15253-864  29.496348  53838.0  \n",
       "2       31520745060  fundamental incompleto  RS  92776-450  21.745232  94865.0  \n",
       "3       31564113612   ensino medio completo  MG  30201-433  23.807220  86419.0  \n",
       "4       36849054538  fundamental incompleto  BA  45908-655  31.831435  43016.0  \n",
       "...             ...                     ...  ..        ...        ...      ...  \n",
       "100782  31929017219   ensino medio completo  RO  76870-573  29.888898  51220.0  \n",
       "100783  30502373415   ensino medio completo  RN  59582-166  45.978005   5586.0  \n",
       "100784  32482251222       superior completo  RR  69388-701  21.044279  97385.0  \n",
       "100785  33174238382       superior completo  MA  65596-818  26.976741  69745.0  \n",
       "100786  34324489025  fundamental incompleto  RS  94424-688  32.145433  41730.0  \n",
       "\n",
       "[100787 rows x 10 columns]"
      ],
      "text/html": "<div>\n<style scoped>\n    .dataframe tbody tr th:only-of-type {\n        vertical-align: middle;\n    }\n\n    .dataframe tbody tr th {\n        vertical-align: top;\n    }\n\n    .dataframe thead th {\n        text-align: right;\n    }\n</style>\n<table border=\"1\" class=\"dataframe\">\n  <thead>\n    <tr style=\"text-align: right;\">\n      <th></th>\n      <th>id_cliente</th>\n      <th>nome</th>\n      <th>sobrenome</th>\n      <th>sexo</th>\n      <th>cpf</th>\n      <th>grau_instrucao</th>\n      <th>uf</th>\n      <th>cep</th>\n      <th>idade</th>\n      <th>rank</th>\n    </tr>\n  </thead>\n  <tbody>\n    <tr>\n      <th>0</th>\n      <td>-4835863059640323805</td>\n      <td>ALINE</td>\n      <td>BETTIN BAIENSE</td>\n      <td>F</td>\n      <td>36919884666</td>\n      <td>fundamental completo</td>\n      <td>MG</td>\n      <td>32401-614</td>\n      <td>25.653283</td>\n      <td>77268.0</td>\n    </tr>\n    <tr>\n      <th>1</th>\n      <td>-7812228504367106399</td>\n      <td>ARAO</td>\n      <td>RASMUSEN TYRNE FUMANESI</td>\n      <td>M</td>\n      <td>30289361869</td>\n      <td>fundamental incompleto</td>\n      <td>SP</td>\n      <td>15253-864</td>\n      <td>29.496348</td>\n      <td>53838.0</td>\n    </tr>\n    <tr>\n      <th>2</th>\n      <td>-615496062623175771</td>\n      <td>ARON</td>\n      <td>VICENTE GOMES LUIS</td>\n      <td>M</td>\n      <td>31520745060</td>\n      <td>fundamental incompleto</td>\n      <td>RS</td>\n      <td>92776-450</td>\n      <td>21.745232</td>\n      <td>94865.0</td>\n    </tr>\n    <tr>\n      <th>3</th>\n      <td>4549084384535614861</td>\n      <td>ADA</td>\n      <td>BUZON SCANFERLA</td>\n      <td>F</td>\n      <td>31564113612</td>\n      <td>ensino medio completo</td>\n      <td>MG</td>\n      <td>30201-433</td>\n      <td>23.807220</td>\n      <td>86419.0</td>\n    </tr>\n    <tr>\n      <th>4</th>\n      <td>8127233580870673453</td>\n      <td>ABADE</td>\n      <td>DE MORAES LOVATEL</td>\n      <td>M</td>\n      <td>36849054538</td>\n      <td>fundamental incompleto</td>\n      <td>BA</td>\n      <td>45908-655</td>\n      <td>31.831435</td>\n      <td>43016.0</td>\n    </tr>\n    <tr>\n      <th>...</th>\n      <td>...</td>\n      <td>...</td>\n      <td>...</td>\n      <td>...</td>\n      <td>...</td>\n      <td>...</td>\n      <td>...</td>\n      <td>...</td>\n      <td>...</td>\n      <td>...</td>\n    </tr>\n    <tr>\n      <th>100782</th>\n      <td>-6096263413536836676</td>\n      <td>MACILEIA</td>\n      <td>MONENTE PIASSI</td>\n      <td>F</td>\n      <td>31929017219</td>\n      <td>ensino medio completo</td>\n      <td>RO</td>\n      <td>76870-573</td>\n      <td>29.888898</td>\n      <td>51220.0</td>\n    </tr>\n    <tr>\n      <th>100783</th>\n      <td>-8454082737859566393</td>\n      <td>JALINE</td>\n      <td>CREMARD BRANCAGLIONI</td>\n      <td>F</td>\n      <td>30502373415</td>\n      <td>ensino medio completo</td>\n      <td>RN</td>\n      <td>59582-166</td>\n      <td>45.978005</td>\n      <td>5586.0</td>\n    </tr>\n    <tr>\n      <th>100784</th>\n      <td>-8614779537790932317</td>\n      <td>DEMILTON</td>\n      <td>MENEGARDO DAL PIAZ</td>\n      <td>M</td>\n      <td>32482251222</td>\n      <td>superior completo</td>\n      <td>RR</td>\n      <td>69388-701</td>\n      <td>21.044279</td>\n      <td>97385.0</td>\n    </tr>\n    <tr>\n      <th>100785</th>\n      <td>3394636096682398032</td>\n      <td>LIVIA</td>\n      <td>RIZZO SANDRINI</td>\n      <td>F</td>\n      <td>33174238382</td>\n      <td>superior completo</td>\n      <td>MA</td>\n      <td>65596-818</td>\n      <td>26.976741</td>\n      <td>69745.0</td>\n    </tr>\n    <tr>\n      <th>100786</th>\n      <td>1624599237057774553</td>\n      <td>FABSON</td>\n      <td>CANZIAN CARLESSO</td>\n      <td>M</td>\n      <td>34324489025</td>\n      <td>fundamental incompleto</td>\n      <td>RS</td>\n      <td>94424-688</td>\n      <td>32.145433</td>\n      <td>41730.0</td>\n    </tr>\n  </tbody>\n</table>\n<p>100787 rows × 10 columns</p>\n</div>"
     },
     "metadata": {},
     "execution_count": 40
    }
   ],
   "source": [
    "df"
   ]
  },
  {
   "cell_type": "code",
   "execution_count": null,
   "metadata": {},
   "outputs": [],
   "source": []
  }
 ]
}