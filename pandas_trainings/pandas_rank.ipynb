{
 "metadata": {
  "language_info": {
   "codemirror_mode": {
    "name": "ipython",
    "version": 3
   },
   "file_extension": ".py",
   "mimetype": "text/x-python",
   "name": "python",
   "nbconvert_exporter": "python",
   "pygments_lexer": "ipython3",
   "version": "3.8.5"
  },
  "orig_nbformat": 2,
  "kernelspec": {
   "name": "python385jvsc74a57bd02db524e06e9f5f4ffedc911c917cb75e12dbc923643829bf417064a77eb14d37",
   "display_name": "Python 3.8.5 64-bit"
  },
  "metadata": {
   "interpreter": {
    "hash": "2db524e06e9f5f4ffedc911c917cb75e12dbc923643829bf417064a77eb14d37"
   }
  }
 },
 "nbformat": 4,
 "nbformat_minor": 2,
 "cells": [
  {
   "cell_type": "code",
   "execution_count": 2,
   "metadata": {},
   "outputs": [
    {
     "output_type": "execute_result",
     "data": {
      "text/plain": [
       "            id_cliente   nome                sobrenome sexo          cpf  \\\n",
       "0 -4835863059640323805  ALINE           BETTIN BAIENSE    F  36919884666   \n",
       "1 -7812228504367106399   ARAO  RASMUSEN TYRNE FUMANESI    M  30289361869   \n",
       "2  -615496062623175771   ARON       VICENTE GOMES LUIS    M  31520745060   \n",
       "3  4549084384535614861    ADA          BUZON SCANFERLA    F  31564113612   \n",
       "4  8127233580870673453  ABADE        DE MORAES LOVATEL    M  36849054538   \n",
       "\n",
       "           grau_instrucao  uf        cep      idade  \n",
       "0    fundamental completo  MG  32401-614  25.653283  \n",
       "1  fundamental incompleto  SP  15253-864  29.496348  \n",
       "2  fundamental incompleto  RS  92776-450  21.745232  \n",
       "3   ensino medio completo  MG  30201-433  23.807220  \n",
       "4  fundamental incompleto  BA  45908-655  31.831435  "
      ],
      "text/html": "<div>\n<style scoped>\n    .dataframe tbody tr th:only-of-type {\n        vertical-align: middle;\n    }\n\n    .dataframe tbody tr th {\n        vertical-align: top;\n    }\n\n    .dataframe thead th {\n        text-align: right;\n    }\n</style>\n<table border=\"1\" class=\"dataframe\">\n  <thead>\n    <tr style=\"text-align: right;\">\n      <th></th>\n      <th>id_cliente</th>\n      <th>nome</th>\n      <th>sobrenome</th>\n      <th>sexo</th>\n      <th>cpf</th>\n      <th>grau_instrucao</th>\n      <th>uf</th>\n      <th>cep</th>\n      <th>idade</th>\n    </tr>\n  </thead>\n  <tbody>\n    <tr>\n      <th>0</th>\n      <td>-4835863059640323805</td>\n      <td>ALINE</td>\n      <td>BETTIN BAIENSE</td>\n      <td>F</td>\n      <td>36919884666</td>\n      <td>fundamental completo</td>\n      <td>MG</td>\n      <td>32401-614</td>\n      <td>25.653283</td>\n    </tr>\n    <tr>\n      <th>1</th>\n      <td>-7812228504367106399</td>\n      <td>ARAO</td>\n      <td>RASMUSEN TYRNE FUMANESI</td>\n      <td>M</td>\n      <td>30289361869</td>\n      <td>fundamental incompleto</td>\n      <td>SP</td>\n      <td>15253-864</td>\n      <td>29.496348</td>\n    </tr>\n    <tr>\n      <th>2</th>\n      <td>-615496062623175771</td>\n      <td>ARON</td>\n      <td>VICENTE GOMES LUIS</td>\n      <td>M</td>\n      <td>31520745060</td>\n      <td>fundamental incompleto</td>\n      <td>RS</td>\n      <td>92776-450</td>\n      <td>21.745232</td>\n    </tr>\n    <tr>\n      <th>3</th>\n      <td>4549084384535614861</td>\n      <td>ADA</td>\n      <td>BUZON SCANFERLA</td>\n      <td>F</td>\n      <td>31564113612</td>\n      <td>ensino medio completo</td>\n      <td>MG</td>\n      <td>30201-433</td>\n      <td>23.807220</td>\n    </tr>\n    <tr>\n      <th>4</th>\n      <td>8127233580870673453</td>\n      <td>ABADE</td>\n      <td>DE MORAES LOVATEL</td>\n      <td>M</td>\n      <td>36849054538</td>\n      <td>fundamental incompleto</td>\n      <td>BA</td>\n      <td>45908-655</td>\n      <td>31.831435</td>\n    </tr>\n  </tbody>\n</table>\n</div>"
     },
     "metadata": {},
     "execution_count": 2
    }
   ],
   "source": [
    "import pandas as pd \n",
    "\n",
    "df = pd.read_csv(r'E:\\Users\\Sergio\\OneDrive\\git\\python\\fake_datasets\\csv\\dados_clientes.csv', encoding= 'latin')\n",
    "df.head()"
   ]
  },
  {
   "cell_type": "code",
   "execution_count": 3,
   "metadata": {},
   "outputs": [
    {
     "output_type": "execute_result",
     "data": {
      "text/plain": [
       "             nome      idade      rank\n",
       "90519        GINI  19.677974       1.0\n",
       "76466      TAIANI  20.000100       2.0\n",
       "69438  RIANDERSON  20.000463       3.0\n",
       "30206   GARBRIELA  20.000571       4.0\n",
       "18772      DILCEA  20.001151       5.0\n",
       "...           ...        ...       ...\n",
       "43563      JULIAN  68.692147  100783.0\n",
       "79614  VALDELICIO  69.535645  100784.0\n",
       "86684    ADAILTON  70.877519  100785.0\n",
       "91683       GERSE  71.585342  100786.0\n",
       "84230       WELHO  76.191177  100787.0\n",
       "\n",
       "[100787 rows x 3 columns]"
      ],
      "text/html": "<div>\n<style scoped>\n    .dataframe tbody tr th:only-of-type {\n        vertical-align: middle;\n    }\n\n    .dataframe tbody tr th {\n        vertical-align: top;\n    }\n\n    .dataframe thead th {\n        text-align: right;\n    }\n</style>\n<table border=\"1\" class=\"dataframe\">\n  <thead>\n    <tr style=\"text-align: right;\">\n      <th></th>\n      <th>nome</th>\n      <th>idade</th>\n      <th>rank</th>\n    </tr>\n  </thead>\n  <tbody>\n    <tr>\n      <th>90519</th>\n      <td>GINI</td>\n      <td>19.677974</td>\n      <td>1.0</td>\n    </tr>\n    <tr>\n      <th>76466</th>\n      <td>TAIANI</td>\n      <td>20.000100</td>\n      <td>2.0</td>\n    </tr>\n    <tr>\n      <th>69438</th>\n      <td>RIANDERSON</td>\n      <td>20.000463</td>\n      <td>3.0</td>\n    </tr>\n    <tr>\n      <th>30206</th>\n      <td>GARBRIELA</td>\n      <td>20.000571</td>\n      <td>4.0</td>\n    </tr>\n    <tr>\n      <th>18772</th>\n      <td>DILCEA</td>\n      <td>20.001151</td>\n      <td>5.0</td>\n    </tr>\n    <tr>\n      <th>...</th>\n      <td>...</td>\n      <td>...</td>\n      <td>...</td>\n    </tr>\n    <tr>\n      <th>43563</th>\n      <td>JULIAN</td>\n      <td>68.692147</td>\n      <td>100783.0</td>\n    </tr>\n    <tr>\n      <th>79614</th>\n      <td>VALDELICIO</td>\n      <td>69.535645</td>\n      <td>100784.0</td>\n    </tr>\n    <tr>\n      <th>86684</th>\n      <td>ADAILTON</td>\n      <td>70.877519</td>\n      <td>100785.0</td>\n    </tr>\n    <tr>\n      <th>91683</th>\n      <td>GERSE</td>\n      <td>71.585342</td>\n      <td>100786.0</td>\n    </tr>\n    <tr>\n      <th>84230</th>\n      <td>WELHO</td>\n      <td>76.191177</td>\n      <td>100787.0</td>\n    </tr>\n  </tbody>\n</table>\n<p>100787 rows × 3 columns</p>\n</div>"
     },
     "metadata": {},
     "execution_count": 3
    }
   ],
   "source": [
    "df['rank'] = df.idade.rank()\n",
    "df.sort_values('idade')[['nome','idade','rank']]"
   ]
  },
  {
   "cell_type": "code",
   "execution_count": 4,
   "metadata": {},
   "outputs": [
    {
     "output_type": "execute_result",
     "data": {
      "text/plain": [
       "                id_cliente    nome           sobrenome sexo          cpf  \\\n",
       "76466  1984718481367674904  TAIANI     BINELLE LEITÃO    F  36266767570   \n",
       "90519 -1179872305920289353    GINI  DE ANGELI MARCHESE    F  33123833666   \n",
       "\n",
       "               grau_instrucao  uf        cep      idade  rank  \n",
       "76466           sem instrucao  BA  44808-256  20.000100   2.0  \n",
       "90519  fundamental incompleto  MG  37986-654  19.677974   1.0  "
      ],
      "text/html": "<div>\n<style scoped>\n    .dataframe tbody tr th:only-of-type {\n        vertical-align: middle;\n    }\n\n    .dataframe tbody tr th {\n        vertical-align: top;\n    }\n\n    .dataframe thead th {\n        text-align: right;\n    }\n</style>\n<table border=\"1\" class=\"dataframe\">\n  <thead>\n    <tr style=\"text-align: right;\">\n      <th></th>\n      <th>id_cliente</th>\n      <th>nome</th>\n      <th>sobrenome</th>\n      <th>sexo</th>\n      <th>cpf</th>\n      <th>grau_instrucao</th>\n      <th>uf</th>\n      <th>cep</th>\n      <th>idade</th>\n      <th>rank</th>\n    </tr>\n  </thead>\n  <tbody>\n    <tr>\n      <th>76466</th>\n      <td>1984718481367674904</td>\n      <td>TAIANI</td>\n      <td>BINELLE LEITÃO</td>\n      <td>F</td>\n      <td>36266767570</td>\n      <td>sem instrucao</td>\n      <td>BA</td>\n      <td>44808-256</td>\n      <td>20.000100</td>\n      <td>2.0</td>\n    </tr>\n    <tr>\n      <th>90519</th>\n      <td>-1179872305920289353</td>\n      <td>GINI</td>\n      <td>DE ANGELI MARCHESE</td>\n      <td>F</td>\n      <td>33123833666</td>\n      <td>fundamental incompleto</td>\n      <td>MG</td>\n      <td>37986-654</td>\n      <td>19.677974</td>\n      <td>1.0</td>\n    </tr>\n  </tbody>\n</table>\n</div>"
     },
     "metadata": {},
     "execution_count": 4
    }
   ],
   "source": [
    "df.query('idade.rank() < 3')"
   ]
  },
  {
   "cell_type": "code",
   "execution_count": 7,
   "metadata": {},
   "outputs": [
    {
     "output_type": "execute_result",
     "data": {
      "text/plain": [
       "                id_cliente       nome                sobrenome sexo  \\\n",
       "59024  3192582339993039512     MILENA            FRAGA MARETTO    F   \n",
       "68385  5915138643322945197       RAVI  BOTELHO CHTISTENSDATTER    M   \n",
       "7815   2397656918757923157     AROLDO         BOTELHO NÃSPOLI    M   \n",
       "81161  2041117071096769436   VARDENIR           MAGRINI PISSIN    M   \n",
       "49504 -2124310764849891405  KETHELLYN        DE MORAES BOTTEON    F   \n",
       "84911  -884918385518891325     YOSUKE          MADUREIRA VALLE    M   \n",
       "63321  5513587324902528713      NIDIA         TAYLOR BREZINSKI    F   \n",
       "38143 -7675822832737213159   INDAIARA            MOSCHON BREDA    F   \n",
       "49346 -6854916929469750107     CERSIO      DE AUGUSTINHO NEVES    M   \n",
       "76466  1984718481367674904     TAIANI          BINELLE LEITÃO    F   \n",
       "\n",
       "               cpf          grau_instrucao  uf        cep      idade   rank  \n",
       "59024  34075434257       superior completo  AC  69971-479  20.015896   59.0  \n",
       "68385  34315501263       superior completo  AC  69987-539  20.033376  130.0  \n",
       "7815   39062789480   ensino medio completo  AL  57457-707  20.015094   53.0  \n",
       "81161  36522554453       superior completo  AL  57223-882  20.017570   67.0  \n",
       "49504  33417609208  fundamental incompleto  AM  69571-635  20.027473  111.0  \n",
       "84911  33804234240           sem instrucao  AM  69585-510  20.055012  195.0  \n",
       "63321  32334617202   ensino medio completo  AP  68910-173  20.029662  118.0  \n",
       "38143  38452128290       superior completo  AP  68917-393  20.044286  161.0  \n",
       "49346  33836014556   ensino medio completo  BA  44510-647  20.006530   25.0  \n",
       "76466  36266767570           sem instrucao  BA  44808-256  20.000100    2.0  "
      ],
      "text/html": "<div>\n<style scoped>\n    .dataframe tbody tr th:only-of-type {\n        vertical-align: middle;\n    }\n\n    .dataframe tbody tr th {\n        vertical-align: top;\n    }\n\n    .dataframe thead th {\n        text-align: right;\n    }\n</style>\n<table border=\"1\" class=\"dataframe\">\n  <thead>\n    <tr style=\"text-align: right;\">\n      <th></th>\n      <th>id_cliente</th>\n      <th>nome</th>\n      <th>sobrenome</th>\n      <th>sexo</th>\n      <th>cpf</th>\n      <th>grau_instrucao</th>\n      <th>uf</th>\n      <th>cep</th>\n      <th>idade</th>\n      <th>rank</th>\n    </tr>\n  </thead>\n  <tbody>\n    <tr>\n      <th>59024</th>\n      <td>3192582339993039512</td>\n      <td>MILENA</td>\n      <td>FRAGA MARETTO</td>\n      <td>F</td>\n      <td>34075434257</td>\n      <td>superior completo</td>\n      <td>AC</td>\n      <td>69971-479</td>\n      <td>20.015896</td>\n      <td>59.0</td>\n    </tr>\n    <tr>\n      <th>68385</th>\n      <td>5915138643322945197</td>\n      <td>RAVI</td>\n      <td>BOTELHO CHTISTENSDATTER</td>\n      <td>M</td>\n      <td>34315501263</td>\n      <td>superior completo</td>\n      <td>AC</td>\n      <td>69987-539</td>\n      <td>20.033376</td>\n      <td>130.0</td>\n    </tr>\n    <tr>\n      <th>7815</th>\n      <td>2397656918757923157</td>\n      <td>AROLDO</td>\n      <td>BOTELHO NÃSPOLI</td>\n      <td>M</td>\n      <td>39062789480</td>\n      <td>ensino medio completo</td>\n      <td>AL</td>\n      <td>57457-707</td>\n      <td>20.015094</td>\n      <td>53.0</td>\n    </tr>\n    <tr>\n      <th>81161</th>\n      <td>2041117071096769436</td>\n      <td>VARDENIR</td>\n      <td>MAGRINI PISSIN</td>\n      <td>M</td>\n      <td>36522554453</td>\n      <td>superior completo</td>\n      <td>AL</td>\n      <td>57223-882</td>\n      <td>20.017570</td>\n      <td>67.0</td>\n    </tr>\n    <tr>\n      <th>49504</th>\n      <td>-2124310764849891405</td>\n      <td>KETHELLYN</td>\n      <td>DE MORAES BOTTEON</td>\n      <td>F</td>\n      <td>33417609208</td>\n      <td>fundamental incompleto</td>\n      <td>AM</td>\n      <td>69571-635</td>\n      <td>20.027473</td>\n      <td>111.0</td>\n    </tr>\n    <tr>\n      <th>84911</th>\n      <td>-884918385518891325</td>\n      <td>YOSUKE</td>\n      <td>MADUREIRA VALLE</td>\n      <td>M</td>\n      <td>33804234240</td>\n      <td>sem instrucao</td>\n      <td>AM</td>\n      <td>69585-510</td>\n      <td>20.055012</td>\n      <td>195.0</td>\n    </tr>\n    <tr>\n      <th>63321</th>\n      <td>5513587324902528713</td>\n      <td>NIDIA</td>\n      <td>TAYLOR BREZINSKI</td>\n      <td>F</td>\n      <td>32334617202</td>\n      <td>ensino medio completo</td>\n      <td>AP</td>\n      <td>68910-173</td>\n      <td>20.029662</td>\n      <td>118.0</td>\n    </tr>\n    <tr>\n      <th>38143</th>\n      <td>-7675822832737213159</td>\n      <td>INDAIARA</td>\n      <td>MOSCHON BREDA</td>\n      <td>F</td>\n      <td>38452128290</td>\n      <td>superior completo</td>\n      <td>AP</td>\n      <td>68917-393</td>\n      <td>20.044286</td>\n      <td>161.0</td>\n    </tr>\n    <tr>\n      <th>49346</th>\n      <td>-6854916929469750107</td>\n      <td>CERSIO</td>\n      <td>DE AUGUSTINHO NEVES</td>\n      <td>M</td>\n      <td>33836014556</td>\n      <td>ensino medio completo</td>\n      <td>BA</td>\n      <td>44510-647</td>\n      <td>20.006530</td>\n      <td>25.0</td>\n    </tr>\n    <tr>\n      <th>76466</th>\n      <td>1984718481367674904</td>\n      <td>TAIANI</td>\n      <td>BINELLE LEITÃO</td>\n      <td>F</td>\n      <td>36266767570</td>\n      <td>sem instrucao</td>\n      <td>BA</td>\n      <td>44808-256</td>\n      <td>20.000100</td>\n      <td>2.0</td>\n    </tr>\n  </tbody>\n</table>\n</div>"
     },
     "metadata": {},
     "execution_count": 7
    }
   ],
   "source": [
    "# pegando os 2 mais novos por estado\n",
    "df[df.groupby('uf').idade.transform('rank', ascending = True) < 3].sort_values('uf').head(10)"
   ]
  },
  {
   "cell_type": "code",
   "execution_count": 8,
   "metadata": {},
   "outputs": [
    {
     "output_type": "execute_result",
     "data": {
      "text/plain": [
       "                id_cliente         nome                 sobrenome sexo  \\\n",
       "81181 -7309124060217252591      VARLETE        SIPOLATTI VALIATTI    F   \n",
       "29986   632085190410736965    FRANSIELI      DE MORAES MARIANELLI    F   \n",
       "7488   3673300241437349661   ARISTELSON              URBINO SELVA    M   \n",
       "91683   -21848442590759905        GERSE             SILVA CREMARD    M   \n",
       "56276 -6505567607858984521        MALLU           MAJESKI MENGALE    F   \n",
       "45946  3352864943734544708    JOSILEILA            STEBENNE ZUQUI    F   \n",
       "8970   7952322235790129975      AVELINO         FROSSAR DE MARCHI    M   \n",
       "98882 -2354441072885178480     EMANUELI       MASSARDI DE ALMEIDA    F   \n",
       "99595  4458955594536106632      LEIDSON            SILVA COROCHER    M   \n",
       "43563  1857961088110669608       JULIAN          CIQUEIRA BITELLI    F   \n",
       "76767 -6908828581259782249       TAMARA         PERIM JOHANNESDT.    F   \n",
       "53921  6678186349700858767      LORILEI             URBINO AIETTE    F   \n",
       "63011  1783410855731831285     NEUVANIA             FRAGA OLAUSEN    F   \n",
       "50477  2292515342718866366     ELIELTON         MONENTE NAPOLEÃO    M   \n",
       "11227 -6518316413451750137    KALIANDRA            BOTELHO GRANDO    F   \n",
       "55161  5470982119692036731      LUZARDO                 MAGRINI T    M   \n",
       "28826  -596335187681137330    FELISBELA                FRAGA LAPA    F   \n",
       "24402   878198364701612086    ELIZEBETH           TAYLOR MANEBACK    F   \n",
       "79226  8624258765747520757         URIK              SANTOS RIGON    M   \n",
       "41452  5710670569871048987    JANDILEIA    RASMUSEN TYRNE CHIECAN    F   \n",
       "7598     55480289133896165        ARLEA             DAL BO GARCIA    F   \n",
       "60357 -5493608042122248133     MONALISA             URBINO BOARIN    F   \n",
       "78279   251080438864987487      THIELLY              PINO REINEHR    F   \n",
       "18101 -3871426653225026212      DEVANIR         STEBENNE PERIORDI    M   \n",
       "7788   3447799399061414538         ARNI     HENRICHSDATTER VALOTO    M   \n",
       "50773  5177251292062533260       LARICE             ONHAS ROZARIO    F   \n",
       "77185  1725806392540312650       TAUENE            BETTIN MARINHO    F   \n",
       "27213 -9217559966425772344      EUCINEI         SANTOS KRISTENSEN    M   \n",
       "89598  5663429486611778957     CLADENIR       MINIGUITE BERNADINI    M   \n",
       "34169  5955529018080643146       GRAICE           ONHAS CHIARADIA    F   \n",
       "86684  -451843258560535106     ADAILTON              CANSIAN SALA    M   \n",
       "14893  4793854287983865995    CRISTOFER          NOVAES PAULUCCIO    M   \n",
       "14729  3048643501566676371     CRISTIAN     DE AUGUSTINHO VIDOTTI    M   \n",
       "71252  4033346271067648915      ROSILDA  RASMUSEN TYRNE GRANZOTTO    F   \n",
       "54199 -7619820465972778179    LOURISVAN            MONTOAN XAVIER    M   \n",
       "49021  6872240567971323536      KELLORY             VILAR DELPUPO    F   \n",
       "82830  2366407815050745173      WANDRES              TAYLOR CHIES    M   \n",
       "37665  4256580526324856948       ALDARA     TAGLIAFERRO DE AGUIAR    F   \n",
       "84213  4992448748879966525      WILMARY          PARENT DA  SILVA    F   \n",
       "68418  7765351753887532809  RAIANDERSON           FROSSAR ORECHIO    M   \n",
       "93528 -4024545851175484418     ADENEIDE               BALDO LEITE    F   \n",
       "28947  8404851264130978898         FAEL            DAL BO BRODEUR    M   \n",
       "45677 -2670412937881262051      JOSEMIL             ONHAS REZENDE    M   \n",
       "2887   8688756468174468370      ALDENIR         PALERMO BERTONSIN    M   \n",
       "87030  8817375207134518845      EZEKIEL             LAGO HENRIQUE    M   \n",
       "50306   -83346015646718208       LADIEL             SILVA WALLORY    M   \n",
       "79614  3484278305212584943   VALDELICIO     DE AUGUSTINHO SAMPAIO    M   \n",
       "84230  6009566021616942892        WELHO        DE ANGELI BELINATO    M   \n",
       "83444 -7270045157204006519       WENDIO  CREMARD CHRISTIANSDATTER    M   \n",
       "86728  3159142665769457229     EDENEIDE             PERIM BOZZOLI    F   \n",
       "51056  2476209247619184237  LAURICLEIDE       LORENÃON JACOMELLE    F   \n",
       "81456  3247606763314788300       VERENI            LAGE PLOTEGHER    F   \n",
       "60898 -9157445039797710673    NADJAMARA          TEROSSI BALANÃA    F   \n",
       "39131   946198482352424352    EISANGELA      ZERBONE DA CONCEICAO    F   \n",
       "\n",
       "               cpf           grau_instrucao  uf        cep      idade  \\\n",
       "81181  33414683237   fundamental incompleto  AC  69933-303  59.558581   \n",
       "29986  31155035208    ensino medio completo  AC  69914-967  60.303866   \n",
       "7488   38250190475   fundamental incompleto  AL  57095-882  60.741316   \n",
       "91683  34888467412    ensino medio completo  AL  57663-723  71.585342   \n",
       "56276  32074461240    ensino medio completo  AM  69878-559  60.039965   \n",
       "45946  30588433217    ensino medio completo  AM  69458-649  61.128014   \n",
       "8970   31898035288        superior completo  AP  68982-499  63.259159   \n",
       "98882  34918458238  ensino medio incompleto  AP  68978-073  59.860898   \n",
       "99595  31075830575   fundamental incompleto  BA  48047-655  62.813991   \n",
       "43563  33804534554   fundamental incompleto  BA  46905-006  68.692147   \n",
       "76767  33175410324     fundamental completo  CE  60594-382  63.053843   \n",
       "53921  35729116306   fundamental incompleto  CE  63767-858  62.918679   \n",
       "63011  37946744137   fundamental incompleto  DF  73628-536  61.757010   \n",
       "50477  36089426105    ensino medio completo  DF  73137-837  62.105855   \n",
       "11227  34038821790        superior completo  ES  29903-311  63.165990   \n",
       "55161  31418420786    ensino medio completo  ES  29426-405  67.611604   \n",
       "28826  32336337185            sem instrucao  GO  74101-512  62.824732   \n",
       "24402  38221444103        superior completo  GO  74322-019  66.493564   \n",
       "79226  39002221347            sem instrucao  MA  65055-319  61.347113   \n",
       "41452  30977837335    ensino medio completo  MA  65390-054  67.709869   \n",
       "7598   39129261660   fundamental incompleto  MG  32896-356  66.411940   \n",
       "60357  39495451663   fundamental incompleto  MG  39513-479  64.157377   \n",
       "78279  33397809193        superior completo  MS  79570-413  65.250628   \n",
       "18101  35568898111            sem instrucao  MS  79921-181  62.108766   \n",
       "7788   31899490183   fundamental incompleto  MT  78713-593  64.174837   \n",
       "50773  37763796189     fundamental completo  MT  78852-443  64.452232   \n",
       "77185  35541636272        superior completo  PA  67369-195  62.455766   \n",
       "27213  36881753284    ensino medio completo  PA  66712-323  58.821423   \n",
       "89598  39849161400    ensino medio completo  PB  58052-083  62.372803   \n",
       "34169  34000810430        superior completo  PB  58248-260  63.238743   \n",
       "86684  31174464437    ensino medio completo  PE  51284-493  70.877519   \n",
       "14893  30671551493        superior completo  PE  51354-421  66.813148   \n",
       "14729  39320469350    ensino medio completo  PI  64711-284  68.468894   \n",
       "71252  38291750351    ensino medio completo  PI  64324-421  60.759050   \n",
       "54199  39203272925    ensino medio completo  PR  87869-165  65.657282   \n",
       "49021  31657195945   fundamental incompleto  PR  82476-196  64.306046   \n",
       "82830  36502684777   fundamental incompleto  RJ  20398-499  63.646889   \n",
       "37665  38309935790        superior completo  RJ  25588-738  66.802583   \n",
       "84213  36581226416   fundamental incompleto  RN  59060-609  61.590954   \n",
       "68418  36760952430   fundamental incompleto  RN  59423-231  59.100836   \n",
       "93528  31761455273    ensino medio completo  RO  76944-822  60.422622   \n",
       "28947  35326705265        superior completo  RO  76803-622  59.495941   \n",
       "45677  36611321217   fundamental incompleto  RR  69393-818  65.016086   \n",
       "2887   34390159208   fundamental incompleto  RR  69380-799  60.253273   \n",
       "87030  34884238087            sem instrucao  RS  91526-476  67.611564   \n",
       "50306  35795240036        superior completo  RS  90728-132  66.536553   \n",
       "79614  32030231991        superior completo  SC  88971-556  69.535645   \n",
       "84230  39939158955    ensino medio completo  SC  89262-956  76.191177   \n",
       "83444  35616732524  ensino medio incompleto  SE  49375-732  64.832095   \n",
       "86728  39558638595        superior completo  SE  49537-631  61.729416   \n",
       "51056  38526442830        superior completo  SP  18746-922  62.489992   \n",
       "81456  39404358800    ensino medio completo  SP  04202-755  65.717885   \n",
       "60898  39074712100    ensino medio completo  TO  77272-303  63.791438   \n",
       "39131  30658660136            sem instrucao  TO  77027-643  64.103540   \n",
       "\n",
       "           rank  \n",
       "81181  100635.0  \n",
       "29986  100676.0  \n",
       "7488   100692.0  \n",
       "91683  100786.0  \n",
       "56276  100665.0  \n",
       "45946  100703.0  \n",
       "8970   100753.0  \n",
       "98882  100659.0  \n",
       "99595  100741.0  \n",
       "43563  100783.0  \n",
       "76767  100749.0  \n",
       "53921  100746.0  \n",
       "63011  100723.0  \n",
       "50477  100727.0  \n",
       "11227  100751.0  \n",
       "55161  100780.0  \n",
       "28826  100743.0  \n",
       "24402  100775.0  \n",
       "79226  100708.0  \n",
       "41452  100781.0  \n",
       "7598   100774.0  \n",
       "60357  100759.0  \n",
       "78279  100768.0  \n",
       "18101  100728.0  \n",
       "7788   100760.0  \n",
       "50773  100763.0  \n",
       "77185  100736.0  \n",
       "27213  100593.0  \n",
       "89598  100734.0  \n",
       "34169  100752.0  \n",
       "86684  100785.0  \n",
       "14893  100778.0  \n",
       "14729  100782.0  \n",
       "71252  100693.0  \n",
       "54199  100770.0  \n",
       "49021  100761.0  \n",
       "82830  100756.0  \n",
       "37665  100777.0  \n",
       "84213  100714.0  \n",
       "68418  100608.0  \n",
       "93528  100683.0  \n",
       "28947  100631.0  \n",
       "45677  100766.0  \n",
       "2887   100673.0  \n",
       "87030  100779.0  \n",
       "50306  100776.0  \n",
       "79614  100784.0  \n",
       "84230  100787.0  \n",
       "83444  100764.0  \n",
       "86728  100720.0  \n",
       "51056  100737.0  \n",
       "81456  100771.0  \n",
       "60898  100757.0  \n",
       "39131  100758.0  "
      ],
      "text/html": "<div>\n<style scoped>\n    .dataframe tbody tr th:only-of-type {\n        vertical-align: middle;\n    }\n\n    .dataframe tbody tr th {\n        vertical-align: top;\n    }\n\n    .dataframe thead th {\n        text-align: right;\n    }\n</style>\n<table border=\"1\" class=\"dataframe\">\n  <thead>\n    <tr style=\"text-align: right;\">\n      <th></th>\n      <th>id_cliente</th>\n      <th>nome</th>\n      <th>sobrenome</th>\n      <th>sexo</th>\n      <th>cpf</th>\n      <th>grau_instrucao</th>\n      <th>uf</th>\n      <th>cep</th>\n      <th>idade</th>\n      <th>rank</th>\n    </tr>\n  </thead>\n  <tbody>\n    <tr>\n      <th>81181</th>\n      <td>-7309124060217252591</td>\n      <td>VARLETE</td>\n      <td>SIPOLATTI VALIATTI</td>\n      <td>F</td>\n      <td>33414683237</td>\n      <td>fundamental incompleto</td>\n      <td>AC</td>\n      <td>69933-303</td>\n      <td>59.558581</td>\n      <td>100635.0</td>\n    </tr>\n    <tr>\n      <th>29986</th>\n      <td>632085190410736965</td>\n      <td>FRANSIELI</td>\n      <td>DE MORAES MARIANELLI</td>\n      <td>F</td>\n      <td>31155035208</td>\n      <td>ensino medio completo</td>\n      <td>AC</td>\n      <td>69914-967</td>\n      <td>60.303866</td>\n      <td>100676.0</td>\n    </tr>\n    <tr>\n      <th>7488</th>\n      <td>3673300241437349661</td>\n      <td>ARISTELSON</td>\n      <td>URBINO SELVA</td>\n      <td>M</td>\n      <td>38250190475</td>\n      <td>fundamental incompleto</td>\n      <td>AL</td>\n      <td>57095-882</td>\n      <td>60.741316</td>\n      <td>100692.0</td>\n    </tr>\n    <tr>\n      <th>91683</th>\n      <td>-21848442590759905</td>\n      <td>GERSE</td>\n      <td>SILVA CREMARD</td>\n      <td>M</td>\n      <td>34888467412</td>\n      <td>ensino medio completo</td>\n      <td>AL</td>\n      <td>57663-723</td>\n      <td>71.585342</td>\n      <td>100786.0</td>\n    </tr>\n    <tr>\n      <th>56276</th>\n      <td>-6505567607858984521</td>\n      <td>MALLU</td>\n      <td>MAJESKI MENGALE</td>\n      <td>F</td>\n      <td>32074461240</td>\n      <td>ensino medio completo</td>\n      <td>AM</td>\n      <td>69878-559</td>\n      <td>60.039965</td>\n      <td>100665.0</td>\n    </tr>\n    <tr>\n      <th>45946</th>\n      <td>3352864943734544708</td>\n      <td>JOSILEILA</td>\n      <td>STEBENNE ZUQUI</td>\n      <td>F</td>\n      <td>30588433217</td>\n      <td>ensino medio completo</td>\n      <td>AM</td>\n      <td>69458-649</td>\n      <td>61.128014</td>\n      <td>100703.0</td>\n    </tr>\n    <tr>\n      <th>8970</th>\n      <td>7952322235790129975</td>\n      <td>AVELINO</td>\n      <td>FROSSAR DE MARCHI</td>\n      <td>M</td>\n      <td>31898035288</td>\n      <td>superior completo</td>\n      <td>AP</td>\n      <td>68982-499</td>\n      <td>63.259159</td>\n      <td>100753.0</td>\n    </tr>\n    <tr>\n      <th>98882</th>\n      <td>-2354441072885178480</td>\n      <td>EMANUELI</td>\n      <td>MASSARDI DE ALMEIDA</td>\n      <td>F</td>\n      <td>34918458238</td>\n      <td>ensino medio incompleto</td>\n      <td>AP</td>\n      <td>68978-073</td>\n      <td>59.860898</td>\n      <td>100659.0</td>\n    </tr>\n    <tr>\n      <th>99595</th>\n      <td>4458955594536106632</td>\n      <td>LEIDSON</td>\n      <td>SILVA COROCHER</td>\n      <td>M</td>\n      <td>31075830575</td>\n      <td>fundamental incompleto</td>\n      <td>BA</td>\n      <td>48047-655</td>\n      <td>62.813991</td>\n      <td>100741.0</td>\n    </tr>\n    <tr>\n      <th>43563</th>\n      <td>1857961088110669608</td>\n      <td>JULIAN</td>\n      <td>CIQUEIRA BITELLI</td>\n      <td>F</td>\n      <td>33804534554</td>\n      <td>fundamental incompleto</td>\n      <td>BA</td>\n      <td>46905-006</td>\n      <td>68.692147</td>\n      <td>100783.0</td>\n    </tr>\n    <tr>\n      <th>76767</th>\n      <td>-6908828581259782249</td>\n      <td>TAMARA</td>\n      <td>PERIM JOHANNESDT.</td>\n      <td>F</td>\n      <td>33175410324</td>\n      <td>fundamental completo</td>\n      <td>CE</td>\n      <td>60594-382</td>\n      <td>63.053843</td>\n      <td>100749.0</td>\n    </tr>\n    <tr>\n      <th>53921</th>\n      <td>6678186349700858767</td>\n      <td>LORILEI</td>\n      <td>URBINO AIETTE</td>\n      <td>F</td>\n      <td>35729116306</td>\n      <td>fundamental incompleto</td>\n      <td>CE</td>\n      <td>63767-858</td>\n      <td>62.918679</td>\n      <td>100746.0</td>\n    </tr>\n    <tr>\n      <th>63011</th>\n      <td>1783410855731831285</td>\n      <td>NEUVANIA</td>\n      <td>FRAGA OLAUSEN</td>\n      <td>F</td>\n      <td>37946744137</td>\n      <td>fundamental incompleto</td>\n      <td>DF</td>\n      <td>73628-536</td>\n      <td>61.757010</td>\n      <td>100723.0</td>\n    </tr>\n    <tr>\n      <th>50477</th>\n      <td>2292515342718866366</td>\n      <td>ELIELTON</td>\n      <td>MONENTE NAPOLEÃO</td>\n      <td>M</td>\n      <td>36089426105</td>\n      <td>ensino medio completo</td>\n      <td>DF</td>\n      <td>73137-837</td>\n      <td>62.105855</td>\n      <td>100727.0</td>\n    </tr>\n    <tr>\n      <th>11227</th>\n      <td>-6518316413451750137</td>\n      <td>KALIANDRA</td>\n      <td>BOTELHO GRANDO</td>\n      <td>F</td>\n      <td>34038821790</td>\n      <td>superior completo</td>\n      <td>ES</td>\n      <td>29903-311</td>\n      <td>63.165990</td>\n      <td>100751.0</td>\n    </tr>\n    <tr>\n      <th>55161</th>\n      <td>5470982119692036731</td>\n      <td>LUZARDO</td>\n      <td>MAGRINI T</td>\n      <td>M</td>\n      <td>31418420786</td>\n      <td>ensino medio completo</td>\n      <td>ES</td>\n      <td>29426-405</td>\n      <td>67.611604</td>\n      <td>100780.0</td>\n    </tr>\n    <tr>\n      <th>28826</th>\n      <td>-596335187681137330</td>\n      <td>FELISBELA</td>\n      <td>FRAGA LAPA</td>\n      <td>F</td>\n      <td>32336337185</td>\n      <td>sem instrucao</td>\n      <td>GO</td>\n      <td>74101-512</td>\n      <td>62.824732</td>\n      <td>100743.0</td>\n    </tr>\n    <tr>\n      <th>24402</th>\n      <td>878198364701612086</td>\n      <td>ELIZEBETH</td>\n      <td>TAYLOR MANEBACK</td>\n      <td>F</td>\n      <td>38221444103</td>\n      <td>superior completo</td>\n      <td>GO</td>\n      <td>74322-019</td>\n      <td>66.493564</td>\n      <td>100775.0</td>\n    </tr>\n    <tr>\n      <th>79226</th>\n      <td>8624258765747520757</td>\n      <td>URIK</td>\n      <td>SANTOS RIGON</td>\n      <td>M</td>\n      <td>39002221347</td>\n      <td>sem instrucao</td>\n      <td>MA</td>\n      <td>65055-319</td>\n      <td>61.347113</td>\n      <td>100708.0</td>\n    </tr>\n    <tr>\n      <th>41452</th>\n      <td>5710670569871048987</td>\n      <td>JANDILEIA</td>\n      <td>RASMUSEN TYRNE CHIECAN</td>\n      <td>F</td>\n      <td>30977837335</td>\n      <td>ensino medio completo</td>\n      <td>MA</td>\n      <td>65390-054</td>\n      <td>67.709869</td>\n      <td>100781.0</td>\n    </tr>\n    <tr>\n      <th>7598</th>\n      <td>55480289133896165</td>\n      <td>ARLEA</td>\n      <td>DAL BO GARCIA</td>\n      <td>F</td>\n      <td>39129261660</td>\n      <td>fundamental incompleto</td>\n      <td>MG</td>\n      <td>32896-356</td>\n      <td>66.411940</td>\n      <td>100774.0</td>\n    </tr>\n    <tr>\n      <th>60357</th>\n      <td>-5493608042122248133</td>\n      <td>MONALISA</td>\n      <td>URBINO BOARIN</td>\n      <td>F</td>\n      <td>39495451663</td>\n      <td>fundamental incompleto</td>\n      <td>MG</td>\n      <td>39513-479</td>\n      <td>64.157377</td>\n      <td>100759.0</td>\n    </tr>\n    <tr>\n      <th>78279</th>\n      <td>251080438864987487</td>\n      <td>THIELLY</td>\n      <td>PINO REINEHR</td>\n      <td>F</td>\n      <td>33397809193</td>\n      <td>superior completo</td>\n      <td>MS</td>\n      <td>79570-413</td>\n      <td>65.250628</td>\n      <td>100768.0</td>\n    </tr>\n    <tr>\n      <th>18101</th>\n      <td>-3871426653225026212</td>\n      <td>DEVANIR</td>\n      <td>STEBENNE PERIORDI</td>\n      <td>M</td>\n      <td>35568898111</td>\n      <td>sem instrucao</td>\n      <td>MS</td>\n      <td>79921-181</td>\n      <td>62.108766</td>\n      <td>100728.0</td>\n    </tr>\n    <tr>\n      <th>7788</th>\n      <td>3447799399061414538</td>\n      <td>ARNI</td>\n      <td>HENRICHSDATTER VALOTO</td>\n      <td>M</td>\n      <td>31899490183</td>\n      <td>fundamental incompleto</td>\n      <td>MT</td>\n      <td>78713-593</td>\n      <td>64.174837</td>\n      <td>100760.0</td>\n    </tr>\n    <tr>\n      <th>50773</th>\n      <td>5177251292062533260</td>\n      <td>LARICE</td>\n      <td>ONHAS ROZARIO</td>\n      <td>F</td>\n      <td>37763796189</td>\n      <td>fundamental completo</td>\n      <td>MT</td>\n      <td>78852-443</td>\n      <td>64.452232</td>\n      <td>100763.0</td>\n    </tr>\n    <tr>\n      <th>77185</th>\n      <td>1725806392540312650</td>\n      <td>TAUENE</td>\n      <td>BETTIN MARINHO</td>\n      <td>F</td>\n      <td>35541636272</td>\n      <td>superior completo</td>\n      <td>PA</td>\n      <td>67369-195</td>\n      <td>62.455766</td>\n      <td>100736.0</td>\n    </tr>\n    <tr>\n      <th>27213</th>\n      <td>-9217559966425772344</td>\n      <td>EUCINEI</td>\n      <td>SANTOS KRISTENSEN</td>\n      <td>M</td>\n      <td>36881753284</td>\n      <td>ensino medio completo</td>\n      <td>PA</td>\n      <td>66712-323</td>\n      <td>58.821423</td>\n      <td>100593.0</td>\n    </tr>\n    <tr>\n      <th>89598</th>\n      <td>5663429486611778957</td>\n      <td>CLADENIR</td>\n      <td>MINIGUITE BERNADINI</td>\n      <td>M</td>\n      <td>39849161400</td>\n      <td>ensino medio completo</td>\n      <td>PB</td>\n      <td>58052-083</td>\n      <td>62.372803</td>\n      <td>100734.0</td>\n    </tr>\n    <tr>\n      <th>34169</th>\n      <td>5955529018080643146</td>\n      <td>GRAICE</td>\n      <td>ONHAS CHIARADIA</td>\n      <td>F</td>\n      <td>34000810430</td>\n      <td>superior completo</td>\n      <td>PB</td>\n      <td>58248-260</td>\n      <td>63.238743</td>\n      <td>100752.0</td>\n    </tr>\n    <tr>\n      <th>86684</th>\n      <td>-451843258560535106</td>\n      <td>ADAILTON</td>\n      <td>CANSIAN SALA</td>\n      <td>M</td>\n      <td>31174464437</td>\n      <td>ensino medio completo</td>\n      <td>PE</td>\n      <td>51284-493</td>\n      <td>70.877519</td>\n      <td>100785.0</td>\n    </tr>\n    <tr>\n      <th>14893</th>\n      <td>4793854287983865995</td>\n      <td>CRISTOFER</td>\n      <td>NOVAES PAULUCCIO</td>\n      <td>M</td>\n      <td>30671551493</td>\n      <td>superior completo</td>\n      <td>PE</td>\n      <td>51354-421</td>\n      <td>66.813148</td>\n      <td>100778.0</td>\n    </tr>\n    <tr>\n      <th>14729</th>\n      <td>3048643501566676371</td>\n      <td>CRISTIAN</td>\n      <td>DE AUGUSTINHO VIDOTTI</td>\n      <td>M</td>\n      <td>39320469350</td>\n      <td>ensino medio completo</td>\n      <td>PI</td>\n      <td>64711-284</td>\n      <td>68.468894</td>\n      <td>100782.0</td>\n    </tr>\n    <tr>\n      <th>71252</th>\n      <td>4033346271067648915</td>\n      <td>ROSILDA</td>\n      <td>RASMUSEN TYRNE GRANZOTTO</td>\n      <td>F</td>\n      <td>38291750351</td>\n      <td>ensino medio completo</td>\n      <td>PI</td>\n      <td>64324-421</td>\n      <td>60.759050</td>\n      <td>100693.0</td>\n    </tr>\n    <tr>\n      <th>54199</th>\n      <td>-7619820465972778179</td>\n      <td>LOURISVAN</td>\n      <td>MONTOAN XAVIER</td>\n      <td>M</td>\n      <td>39203272925</td>\n      <td>ensino medio completo</td>\n      <td>PR</td>\n      <td>87869-165</td>\n      <td>65.657282</td>\n      <td>100770.0</td>\n    </tr>\n    <tr>\n      <th>49021</th>\n      <td>6872240567971323536</td>\n      <td>KELLORY</td>\n      <td>VILAR DELPUPO</td>\n      <td>F</td>\n      <td>31657195945</td>\n      <td>fundamental incompleto</td>\n      <td>PR</td>\n      <td>82476-196</td>\n      <td>64.306046</td>\n      <td>100761.0</td>\n    </tr>\n    <tr>\n      <th>82830</th>\n      <td>2366407815050745173</td>\n      <td>WANDRES</td>\n      <td>TAYLOR CHIES</td>\n      <td>M</td>\n      <td>36502684777</td>\n      <td>fundamental incompleto</td>\n      <td>RJ</td>\n      <td>20398-499</td>\n      <td>63.646889</td>\n      <td>100756.0</td>\n    </tr>\n    <tr>\n      <th>37665</th>\n      <td>4256580526324856948</td>\n      <td>ALDARA</td>\n      <td>TAGLIAFERRO DE AGUIAR</td>\n      <td>F</td>\n      <td>38309935790</td>\n      <td>superior completo</td>\n      <td>RJ</td>\n      <td>25588-738</td>\n      <td>66.802583</td>\n      <td>100777.0</td>\n    </tr>\n    <tr>\n      <th>84213</th>\n      <td>4992448748879966525</td>\n      <td>WILMARY</td>\n      <td>PARENT DA  SILVA</td>\n      <td>F</td>\n      <td>36581226416</td>\n      <td>fundamental incompleto</td>\n      <td>RN</td>\n      <td>59060-609</td>\n      <td>61.590954</td>\n      <td>100714.0</td>\n    </tr>\n    <tr>\n      <th>68418</th>\n      <td>7765351753887532809</td>\n      <td>RAIANDERSON</td>\n      <td>FROSSAR ORECHIO</td>\n      <td>M</td>\n      <td>36760952430</td>\n      <td>fundamental incompleto</td>\n      <td>RN</td>\n      <td>59423-231</td>\n      <td>59.100836</td>\n      <td>100608.0</td>\n    </tr>\n    <tr>\n      <th>93528</th>\n      <td>-4024545851175484418</td>\n      <td>ADENEIDE</td>\n      <td>BALDO LEITE</td>\n      <td>F</td>\n      <td>31761455273</td>\n      <td>ensino medio completo</td>\n      <td>RO</td>\n      <td>76944-822</td>\n      <td>60.422622</td>\n      <td>100683.0</td>\n    </tr>\n    <tr>\n      <th>28947</th>\n      <td>8404851264130978898</td>\n      <td>FAEL</td>\n      <td>DAL BO BRODEUR</td>\n      <td>M</td>\n      <td>35326705265</td>\n      <td>superior completo</td>\n      <td>RO</td>\n      <td>76803-622</td>\n      <td>59.495941</td>\n      <td>100631.0</td>\n    </tr>\n    <tr>\n      <th>45677</th>\n      <td>-2670412937881262051</td>\n      <td>JOSEMIL</td>\n      <td>ONHAS REZENDE</td>\n      <td>M</td>\n      <td>36611321217</td>\n      <td>fundamental incompleto</td>\n      <td>RR</td>\n      <td>69393-818</td>\n      <td>65.016086</td>\n      <td>100766.0</td>\n    </tr>\n    <tr>\n      <th>2887</th>\n      <td>8688756468174468370</td>\n      <td>ALDENIR</td>\n      <td>PALERMO BERTONSIN</td>\n      <td>M</td>\n      <td>34390159208</td>\n      <td>fundamental incompleto</td>\n      <td>RR</td>\n      <td>69380-799</td>\n      <td>60.253273</td>\n      <td>100673.0</td>\n    </tr>\n    <tr>\n      <th>87030</th>\n      <td>8817375207134518845</td>\n      <td>EZEKIEL</td>\n      <td>LAGO HENRIQUE</td>\n      <td>M</td>\n      <td>34884238087</td>\n      <td>sem instrucao</td>\n      <td>RS</td>\n      <td>91526-476</td>\n      <td>67.611564</td>\n      <td>100779.0</td>\n    </tr>\n    <tr>\n      <th>50306</th>\n      <td>-83346015646718208</td>\n      <td>LADIEL</td>\n      <td>SILVA WALLORY</td>\n      <td>M</td>\n      <td>35795240036</td>\n      <td>superior completo</td>\n      <td>RS</td>\n      <td>90728-132</td>\n      <td>66.536553</td>\n      <td>100776.0</td>\n    </tr>\n    <tr>\n      <th>79614</th>\n      <td>3484278305212584943</td>\n      <td>VALDELICIO</td>\n      <td>DE AUGUSTINHO SAMPAIO</td>\n      <td>M</td>\n      <td>32030231991</td>\n      <td>superior completo</td>\n      <td>SC</td>\n      <td>88971-556</td>\n      <td>69.535645</td>\n      <td>100784.0</td>\n    </tr>\n    <tr>\n      <th>84230</th>\n      <td>6009566021616942892</td>\n      <td>WELHO</td>\n      <td>DE ANGELI BELINATO</td>\n      <td>M</td>\n      <td>39939158955</td>\n      <td>ensino medio completo</td>\n      <td>SC</td>\n      <td>89262-956</td>\n      <td>76.191177</td>\n      <td>100787.0</td>\n    </tr>\n    <tr>\n      <th>83444</th>\n      <td>-7270045157204006519</td>\n      <td>WENDIO</td>\n      <td>CREMARD CHRISTIANSDATTER</td>\n      <td>M</td>\n      <td>35616732524</td>\n      <td>ensino medio incompleto</td>\n      <td>SE</td>\n      <td>49375-732</td>\n      <td>64.832095</td>\n      <td>100764.0</td>\n    </tr>\n    <tr>\n      <th>86728</th>\n      <td>3159142665769457229</td>\n      <td>EDENEIDE</td>\n      <td>PERIM BOZZOLI</td>\n      <td>F</td>\n      <td>39558638595</td>\n      <td>superior completo</td>\n      <td>SE</td>\n      <td>49537-631</td>\n      <td>61.729416</td>\n      <td>100720.0</td>\n    </tr>\n    <tr>\n      <th>51056</th>\n      <td>2476209247619184237</td>\n      <td>LAURICLEIDE</td>\n      <td>LORENÃON JACOMELLE</td>\n      <td>F</td>\n      <td>38526442830</td>\n      <td>superior completo</td>\n      <td>SP</td>\n      <td>18746-922</td>\n      <td>62.489992</td>\n      <td>100737.0</td>\n    </tr>\n    <tr>\n      <th>81456</th>\n      <td>3247606763314788300</td>\n      <td>VERENI</td>\n      <td>LAGE PLOTEGHER</td>\n      <td>F</td>\n      <td>39404358800</td>\n      <td>ensino medio completo</td>\n      <td>SP</td>\n      <td>04202-755</td>\n      <td>65.717885</td>\n      <td>100771.0</td>\n    </tr>\n    <tr>\n      <th>60898</th>\n      <td>-9157445039797710673</td>\n      <td>NADJAMARA</td>\n      <td>TEROSSI BALANÃA</td>\n      <td>F</td>\n      <td>39074712100</td>\n      <td>ensino medio completo</td>\n      <td>TO</td>\n      <td>77272-303</td>\n      <td>63.791438</td>\n      <td>100757.0</td>\n    </tr>\n    <tr>\n      <th>39131</th>\n      <td>946198482352424352</td>\n      <td>EISANGELA</td>\n      <td>ZERBONE DA CONCEICAO</td>\n      <td>F</td>\n      <td>30658660136</td>\n      <td>sem instrucao</td>\n      <td>TO</td>\n      <td>77027-643</td>\n      <td>64.103540</td>\n      <td>100758.0</td>\n    </tr>\n  </tbody>\n</table>\n</div>"
     },
     "metadata": {},
     "execution_count": 8
    }
   ],
   "source": [
    "# pegando os 2 mais velhos por estado\n",
    "df[df.groupby('uf').idade.transform('rank', ascending = False) < 3].sort_values('uf')"
   ]
  },
  {
   "cell_type": "code",
   "execution_count": null,
   "metadata": {},
   "outputs": [],
   "source": []
  }
 ]
}