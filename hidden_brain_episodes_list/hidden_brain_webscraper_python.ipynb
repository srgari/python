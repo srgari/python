{
 "metadata": {
  "orig_nbformat": 2,
  "kernelspec": {
   "name": "python3",
   "display_name": "Python 3",
   "language": "python"
  }
 },
 "nbformat": 4,
 "nbformat_minor": 2,
 "cells": [
  {
   "cell_type": "code",
   "execution_count": 2,
   "metadata": {},
   "outputs": [
    {
     "output_type": "stream",
     "name": "stdout",
     "text": [
      "gerando datas\n"
     ]
    }
   ],
   "source": [
    "import pandas as pd\n",
    "import requests\n",
    "from bs4 import BeautifulSoup\n",
    "import re\n",
    "print('gerando datas')\n",
    "datas = pd.date_range(start = '2011-01-01', end = pd.to_datetime('today'), freq = 'M')\n",
    "\n",
    "d = {}\n",
    "str_datas = [str(x) for x in datas]\n",
    "\n",
    "for dt in str_datas:    \n",
    "    header = {'ACCEPT':'text/html,application/xhtml+xml,application/xml;q=0.9,image/avif,image/webp,image/apng,*/*;q=0.8,application/signed-exchange;v=b3;q=0.9'}\n",
    "    baseURL = f'https://www.npr.org/series/423302056/hidden-brain/archive?date={dt}'\n",
    "    req = requests.request('GET', baseURL, headers = header, data = {})\n",
    "\n",
    "    soup = BeautifulSoup(req.text)\n",
    "\n",
    "    for x in soup.find_all():\n",
    "            if f'npr.org/{dt[:4]}/' in str(x.get('href')) and len(x.get_text()) > 3 :\n",
    "                link = x.get('href')\n",
    "                text = x.get_text()\n",
    "                if link not in list(d):\n",
    "                    d[link] = [text]    \n",
    "                else:\n",
    "                    if text not in d[link]:\n",
    "                        d[link].append(x.get_text())\n",
    "\n",
    "    "
   ]
  },
  {
   "cell_type": "code",
   "execution_count": 7,
   "metadata": {},
   "outputs": [
    {
     "output_type": "execute_result",
     "data": {
      "text/plain": [
       "                                                               0  \\\n",
       "https://www.npr.org/2011/06/10/137112887/some-s...  \\n\\n\\n\\n\\n\\n   \n",
       "https://www.npr.org/2011/07/07/137660609/its-a-...  \\n\\n\\n\\n\\n\\n   \n",
       "https://www.npr.org/2011/07/04/137526401/the-ke...  \\n\\n\\n\\n\\n\\n   \n",
       "https://www.npr.org/2011/08/31/140085048/to-dod...  \\n\\n\\n\\n\\n\\n   \n",
       "https://www.npr.org/2011/08/02/138922339/under-...  \\n\\n\\n\\n\\n\\n   \n",
       "...                                                          ...   \n",
       "https://www.npr.org/2020/07/31/897673162/you-2-...  \\n\\n\\n\\n\\n\\n   \n",
       "https://www.npr.org/2020/09/25/916997530/laught...  \\n\\n\\n\\n\\n\\n   \n",
       "https://www.npr.org/2020/08/21/904660038/the-ha...  \\n\\n\\n\\n\\n\\n   \n",
       "https://www.npr.org/2020/09/14/912749547/why-no...  \\n\\n\\n\\n\\n\\n   \n",
       "https://www.npr.org/2020/09/02/908728981/slayin...  \\n\\n\\n\\n\\n\\n   \n",
       "\n",
       "                                                                                                    1  \\\n",
       "https://www.npr.org/2011/06/10/137112887/some-s...                     Power May Increase Promiscuity   \n",
       "https://www.npr.org/2011/07/07/137660609/its-a-...      Dispute: How Violent Video Games Affect Kids    \n",
       "https://www.npr.org/2011/07/04/137526401/the-ke...      The Key To Disaster Survival? Pals, Neighbors   \n",
       "https://www.npr.org/2011/08/31/140085048/to-dod...   To Dodge Blame, Officials  Prep Public For Worst   \n",
       "https://www.npr.org/2011/08/02/138922339/under-...  Under Pressure, Soccer Goalies Tend To Dive Right   \n",
       "...                                                                                               ...   \n",
       "https://www.npr.org/2020/07/31/897673162/you-2-...                  You 2.0: Our Pursuit of Happiness   \n",
       "https://www.npr.org/2020/09/25/916997530/laught...                        Laughter: The Best Medicine   \n",
       "https://www.npr.org/2020/08/21/904660038/the-ha...                                    The Halo Effect   \n",
       "https://www.npr.org/2020/09/14/912749547/why-no...                              Why Nobody Feels Rich   \n",
       "https://www.npr.org/2020/09/02/908728981/slayin...                        The Fee-for-Service Monster   \n",
       "\n",
       "                                                                                                    2  \n",
       "https://www.npr.org/2011/06/10/137112887/some-s...  June 10, 2011  Anthony Weiner, Arnold Schwarz...  \n",
       "https://www.npr.org/2011/07/07/137660609/its-a-...  July 7, 2011  Scientists have long clashed ov...  \n",
       "https://www.npr.org/2011/07/04/137526401/the-ke...  July 4, 2011  A researcher's data suggest tha...  \n",
       "https://www.npr.org/2011/08/31/140085048/to-dod...  August 31, 2011  Because people are more like...  \n",
       "https://www.npr.org/2011/08/02/138922339/under-...  August 2, 2011  Here's some science for the b...  \n",
       "...                                                                                               ...  \n",
       "https://www.npr.org/2020/07/31/897673162/you-2-...  August 3, 2020  Sometimes, life can feel like...  \n",
       "https://www.npr.org/2020/09/25/916997530/laught...  September 28, 2020  If you listen closely to ...  \n",
       "https://www.npr.org/2020/08/21/904660038/the-ha...  September 21, 2020  Judy, Lyn and Donna Ulric...  \n",
       "https://www.npr.org/2020/09/14/912749547/why-no...  September 14, 2020  If you've ever flown in e...  \n",
       "https://www.npr.org/2020/09/02/908728981/slayin...  September 7, 2020  The United States spends t...  \n",
       "\n",
       "[608 rows x 3 columns]"
      ],
      "text/html": "<div>\n<style scoped>\n    .dataframe tbody tr th:only-of-type {\n        vertical-align: middle;\n    }\n\n    .dataframe tbody tr th {\n        vertical-align: top;\n    }\n\n    .dataframe thead th {\n        text-align: right;\n    }\n</style>\n<table border=\"1\" class=\"dataframe\">\n  <thead>\n    <tr style=\"text-align: right;\">\n      <th></th>\n      <th>0</th>\n      <th>1</th>\n      <th>2</th>\n    </tr>\n  </thead>\n  <tbody>\n    <tr>\n      <th>https://www.npr.org/2011/06/10/137112887/some-suggest-power-increases-promiscuity</th>\n      <td>\\n\\n\\n\\n\\n\\n</td>\n      <td>Power May Increase Promiscuity</td>\n      <td>June 10, 2011  Anthony Weiner, Arnold Schwarz...</td>\n    </tr>\n    <tr>\n      <th>https://www.npr.org/2011/07/07/137660609/its-a-duel-how-do-violent-video-games-affect-kids</th>\n      <td>\\n\\n\\n\\n\\n\\n</td>\n      <td>Dispute: How Violent Video Games Affect Kids</td>\n      <td>July 7, 2011  Scientists have long clashed ov...</td>\n    </tr>\n    <tr>\n      <th>https://www.npr.org/2011/07/04/137526401/the-key-to-disaster-survival-friends-and-neighbors</th>\n      <td>\\n\\n\\n\\n\\n\\n</td>\n      <td>The Key To Disaster Survival? Pals, Neighbors</td>\n      <td>July 4, 2011  A researcher's data suggest tha...</td>\n    </tr>\n    <tr>\n      <th>https://www.npr.org/2011/08/31/140085048/to-dodge-blame-officials-prepare-public-for-worst</th>\n      <td>\\n\\n\\n\\n\\n\\n</td>\n      <td>To Dodge Blame, Officials  Prep Public For Worst</td>\n      <td>August 31, 2011  Because people are more like...</td>\n    </tr>\n    <tr>\n      <th>https://www.npr.org/2011/08/02/138922339/under-pressure-soccer-goalies-tend-to-dive-right</th>\n      <td>\\n\\n\\n\\n\\n\\n</td>\n      <td>Under Pressure, Soccer Goalies Tend To Dive Right</td>\n      <td>August 2, 2011  Here's some science for the b...</td>\n    </tr>\n    <tr>\n      <th>...</th>\n      <td>...</td>\n      <td>...</td>\n      <td>...</td>\n    </tr>\n    <tr>\n      <th>https://www.npr.org/2020/07/31/897673162/you-2-0-our-pursuit-of-happiness</th>\n      <td>\\n\\n\\n\\n\\n\\n</td>\n      <td>You 2.0: Our Pursuit of Happiness</td>\n      <td>August 3, 2020  Sometimes, life can feel like...</td>\n    </tr>\n    <tr>\n      <th>https://www.npr.org/2020/09/25/916997530/laughter-the-best-medicine</th>\n      <td>\\n\\n\\n\\n\\n\\n</td>\n      <td>Laughter: The Best Medicine</td>\n      <td>September 28, 2020  If you listen closely to ...</td>\n    </tr>\n    <tr>\n      <th>https://www.npr.org/2020/08/21/904660038/the-halo-effect-why-its-so-difficult-to-understand-the-past</th>\n      <td>\\n\\n\\n\\n\\n\\n</td>\n      <td>The Halo Effect</td>\n      <td>September 21, 2020  Judy, Lyn and Donna Ulric...</td>\n    </tr>\n    <tr>\n      <th>https://www.npr.org/2020/09/14/912749547/why-nobody-feels-rich-the-psychology-of-inequality</th>\n      <td>\\n\\n\\n\\n\\n\\n</td>\n      <td>Why Nobody Feels Rich</td>\n      <td>September 14, 2020  If you've ever flown in e...</td>\n    </tr>\n    <tr>\n      <th>https://www.npr.org/2020/09/02/908728981/slaying-the-fee-for-service-monster-of-american-healthcare</th>\n      <td>\\n\\n\\n\\n\\n\\n</td>\n      <td>The Fee-for-Service Monster</td>\n      <td>September 7, 2020  The United States spends t...</td>\n    </tr>\n  </tbody>\n</table>\n<p>608 rows × 3 columns</p>\n</div>"
     },
     "metadata": {},
     "execution_count": 7
    }
   ],
   "source": [
    "pd.DataFrame.from_dict(d, orient = 'index')"
   ]
  },
  {
   "cell_type": "code",
   "execution_count": 127,
   "metadata": {},
   "outputs": [
    {
     "output_type": "execute_result",
     "data": {
      "text/plain": [
       "                                                  link  \\\n",
       "0    https://www.npr.org/2011/06/10/137112887/some-...   \n",
       "1    https://www.npr.org/2011/07/07/137660609/its-a...   \n",
       "2    https://www.npr.org/2011/07/04/137526401/the-k...   \n",
       "3    https://www.npr.org/2011/08/31/140085048/to-do...   \n",
       "4    https://www.npr.org/2011/08/02/138922339/under...   \n",
       "..                                                 ...   \n",
       "603  https://www.npr.org/2020/07/31/897673162/you-2...   \n",
       "604  https://www.npr.org/2020/09/25/916997530/laugh...   \n",
       "605  https://www.npr.org/2020/08/21/904660038/the-h...   \n",
       "606  https://www.npr.org/2020/09/14/912749547/why-n...   \n",
       "607  https://www.npr.org/2020/09/02/908728981/slayi...   \n",
       "\n",
       "                                                 title  \\\n",
       "0                       Power May Increase Promiscuity   \n",
       "1        Dispute: How Violent Video Games Affect Kids    \n",
       "2        The Key To Disaster Survival? Pals, Neighbors   \n",
       "3     To Dodge Blame, Officials  Prep Public For Worst   \n",
       "4    Under Pressure, Soccer Goalies Tend To Dive Right   \n",
       "..                                                 ...   \n",
       "603                  You 2.0: Our Pursuit of Happiness   \n",
       "604                        Laughter: The Best Medicine   \n",
       "605                                    The Halo Effect   \n",
       "606                              Why Nobody Feels Rich   \n",
       "607                        The Fee-for-Service Monster   \n",
       "\n",
       "                                           description       date  \n",
       "0    Anthony Weiner, Arnold Schwarzenegger — men be... 2011-06-10  \n",
       "1    Scientists have long clashed over whether viol... 2011-07-07  \n",
       "2    A researcher's data suggest that ambulances, f... 2011-07-04  \n",
       "3    Because people are more likely to blame public... 2011-08-31  \n",
       "4    Here's some science for the betting table: Whe... 2011-08-02  \n",
       "..                                                 ...        ...  \n",
       "603  Sometimes, life can feel like being stuck on a... 2020-08-03  \n",
       "604  If you listen closely to giggles, guffaws, and... 2020-09-28  \n",
       "605  Judy, Lyn and Donna Ulrich were driving to a v... 2020-09-21  \n",
       "606  If you've ever flown in economy class on a pla... 2020-09-14  \n",
       "607  The United States spends trillions of dollars ... 2020-09-07  \n",
       "\n",
       "[608 rows x 4 columns]"
      ],
      "text/html": "<div>\n<style scoped>\n    .dataframe tbody tr th:only-of-type {\n        vertical-align: middle;\n    }\n\n    .dataframe tbody tr th {\n        vertical-align: top;\n    }\n\n    .dataframe thead th {\n        text-align: right;\n    }\n</style>\n<table border=\"1\" class=\"dataframe\">\n  <thead>\n    <tr style=\"text-align: right;\">\n      <th></th>\n      <th>link</th>\n      <th>title</th>\n      <th>description</th>\n      <th>date</th>\n    </tr>\n  </thead>\n  <tbody>\n    <tr>\n      <th>0</th>\n      <td>https://www.npr.org/2011/06/10/137112887/some-...</td>\n      <td>Power May Increase Promiscuity</td>\n      <td>Anthony Weiner, Arnold Schwarzenegger — men be...</td>\n      <td>2011-06-10</td>\n    </tr>\n    <tr>\n      <th>1</th>\n      <td>https://www.npr.org/2011/07/07/137660609/its-a...</td>\n      <td>Dispute: How Violent Video Games Affect Kids</td>\n      <td>Scientists have long clashed over whether viol...</td>\n      <td>2011-07-07</td>\n    </tr>\n    <tr>\n      <th>2</th>\n      <td>https://www.npr.org/2011/07/04/137526401/the-k...</td>\n      <td>The Key To Disaster Survival? Pals, Neighbors</td>\n      <td>A researcher's data suggest that ambulances, f...</td>\n      <td>2011-07-04</td>\n    </tr>\n    <tr>\n      <th>3</th>\n      <td>https://www.npr.org/2011/08/31/140085048/to-do...</td>\n      <td>To Dodge Blame, Officials  Prep Public For Worst</td>\n      <td>Because people are more likely to blame public...</td>\n      <td>2011-08-31</td>\n    </tr>\n    <tr>\n      <th>4</th>\n      <td>https://www.npr.org/2011/08/02/138922339/under...</td>\n      <td>Under Pressure, Soccer Goalies Tend To Dive Right</td>\n      <td>Here's some science for the betting table: Whe...</td>\n      <td>2011-08-02</td>\n    </tr>\n    <tr>\n      <th>...</th>\n      <td>...</td>\n      <td>...</td>\n      <td>...</td>\n      <td>...</td>\n    </tr>\n    <tr>\n      <th>603</th>\n      <td>https://www.npr.org/2020/07/31/897673162/you-2...</td>\n      <td>You 2.0: Our Pursuit of Happiness</td>\n      <td>Sometimes, life can feel like being stuck on a...</td>\n      <td>2020-08-03</td>\n    </tr>\n    <tr>\n      <th>604</th>\n      <td>https://www.npr.org/2020/09/25/916997530/laugh...</td>\n      <td>Laughter: The Best Medicine</td>\n      <td>If you listen closely to giggles, guffaws, and...</td>\n      <td>2020-09-28</td>\n    </tr>\n    <tr>\n      <th>605</th>\n      <td>https://www.npr.org/2020/08/21/904660038/the-h...</td>\n      <td>The Halo Effect</td>\n      <td>Judy, Lyn and Donna Ulrich were driving to a v...</td>\n      <td>2020-09-21</td>\n    </tr>\n    <tr>\n      <th>606</th>\n      <td>https://www.npr.org/2020/09/14/912749547/why-n...</td>\n      <td>Why Nobody Feels Rich</td>\n      <td>If you've ever flown in economy class on a pla...</td>\n      <td>2020-09-14</td>\n    </tr>\n    <tr>\n      <th>607</th>\n      <td>https://www.npr.org/2020/09/02/908728981/slayi...</td>\n      <td>The Fee-for-Service Monster</td>\n      <td>The United States spends trillions of dollars ...</td>\n      <td>2020-09-07</td>\n    </tr>\n  </tbody>\n</table>\n<p>608 rows × 4 columns</p>\n</div>"
     },
     "metadata": {},
     "execution_count": 127
    }
   ],
   "source": [
    "import pandas as pd \n",
    "import re \n",
    "df = pd.DataFrame.from_dict(d, orient = 'index')\n",
    "df = df.drop(columns = [0])\n",
    "df = df.reset_index()\n",
    "df.columns  = ['link','title','description']\n",
    "# df['date'] = pd.to_datetime(df.description.apply(lambda x: re.findall('[A-Za-z0-9\\s,]*[\\d]{4}',x)[0]))\n",
    "\n",
    "\n",
    "\n",
    "# df['description'] = df.description.apply(lambda x: re.findall('\\d{4}..(.*)',x)[0])\n",
    "# df = df.sort_values('date', ascending = False)\n",
    "\n",
    "\n",
    "df['date'] = df['description'].str.extract('(\\w{3,14} \\d{1,2}, \\d{4})')\n",
    "df['date'].replace('^(\\w+) (\\d+), (\\d+).*$', r'\\3 \\2 \\1', regex = True)\n",
    "df['date'] = pd.to_datetime(df['date'].replace('^(\\w+) (\\d+), (\\d+).*$', r' \\3 \\1 \\2', regex = True))\n",
    "df['description'] = df.description.replace('^\\w+ \\d+, \\d+ . (.*)$',r'\\1', regex = True)\n",
    "df\n"
   ]
  },
  {
   "cell_type": "code",
   "execution_count": null,
   "metadata": {},
   "outputs": [],
   "source": []
  }
 ]
}