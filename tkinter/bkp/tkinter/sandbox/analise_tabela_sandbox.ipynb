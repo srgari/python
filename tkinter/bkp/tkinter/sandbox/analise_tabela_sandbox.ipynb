{
 "nbformat": 4,
 "nbformat_minor": 2,
 "metadata": {
  "language_info": {
   "name": "python",
   "codemirror_mode": {
    "name": "ipython",
    "version": 3
   },
   "version": "3.7.3-final"
  },
  "orig_nbformat": 2,
  "file_extension": ".py",
  "mimetype": "text/x-python",
  "name": "python",
  "npconvert_exporter": "python",
  "pygments_lexer": "ipython3",
  "version": 3,
  "kernelspec": {
   "name": "python37364bitbaseconda4c2642a47e274d08b2f0ac239125a5d0",
   "display_name": "Python 3.7.3 64-bit ('base': conda)"
  }
 },
 "cells": [
  {
   "cell_type": "code",
   "execution_count": 7,
   "metadata": {},
   "outputs": [],
   "source": [
    "import tkinter as tk, pandas as pd\n",
    "from tkinter import ttk\n",
    "import os\n",
    "\n",
    "w = tk.Tk()\n",
    "tree = ttk.Treeview(w)\n",
    "tabela = pd.DataFrame()\n",
    "ttk.Label(w, text = \"Escolha o arquivo\").grid(column = 1, row = 0)\n",
    "#lista_arquivos = tk.StringVar()\n",
    "arquivo_escolhido = ttk.Combobox(w, width = 50,)# textvariable = lista_arquivos)\n",
    "arquivo_escolhido['values'] = tuple([x for x in os.listdir() if '.csv' in x])\n",
    "arquivo_escolhido.grid(column=1, row = 1)\n",
    "arquivo_escolhido.current(0)\n",
    "\n",
    "\n",
    "def escolha_colunas():\n",
    "\n",
    "    #================================\n",
    "    # Parte da tabela de resultados\n",
    "    #=================================\n",
    "    def resultados():\n",
    "        def analisador_tabela(): \n",
    "            df_x = pd.read_csv(tabela)\n",
    "            categorica = e_categorica.get()\n",
    "            quantitativa = e_numerica.get()\n",
    "            est_categorias = df.groupby(categorica)[quantitativa].agg(['sum','mean','std','min','max']).T\n",
    "            est_todos = df[quantitativa].agg(['sum','mean','std','min','max']).rename(columns = {quantitativa:'todos'})\n",
    "            df_estatistica = pd.concat([est_categorias,est_todos], axis = 1).rename(columns = {0:'todos'})\n",
    "            return df_estatistica.applymap(round)\n",
    "        df_e = analisador_tabela()\n",
    "\n",
    "        n_colunas = tuple([str(x) for x in range(len(df_e.columns))])\n",
    "\n",
    "        tree[\"columns\"]=n_colunas\n",
    "        for x,y in zip(n_colunas,tuple(df_e.columns)):\n",
    "            tree.column(x, width=100, minwidth=100, anchor = tk.CENTER)\n",
    "            tree.heading(x,text=y)\n",
    "\n",
    "        for x in range(df_e.shape[0]): tree.insert('',x+1,str(x+1), text = df_e.index[x], values = tuple(df_e.iloc[x].values))\n",
    "\n",
    "\n",
    "        tree.grid(column = 1, row = 5,columnspan = 4)\n",
    "\n",
    "\n",
    "\n",
    "    #====================================\n",
    "    # Fim da parte da tabela de resultados\n",
    "    #=====================================\n",
    "\n",
    "    tabela = arquivo_escolhido.get()\n",
    "    df = pd.read_csv(tabela)\n",
    "    df = df[[x for x in df.columns if 'Unnamed' not in x]]\n",
    "    for x in df.columns:\n",
    "        if 'data' in x.lower():\n",
    "            df[x] = pd.to_datetime(df[x])\n",
    "\n",
    "    t_colunas = tuple(df.columns)\n",
    "        \n",
    "\n",
    "    ttk.Label(w, text = tabela).grid(column = 0, row = 0)\n",
    "\n",
    "    ttk.Label(w, text = 'Coluna categórica').grid(column = 4, row = 1)\n",
    "    e_categorica = ttk.Combobox(w, width = 40,)\n",
    "    e_categorica['values'] = t_colunas\n",
    "    e_categorica.grid(column = 5, row = 1)\n",
    "    e_categorica.current(1)\n",
    "    \n",
    "    ttk.Label(w, text = 'Coluna numérica').grid(column = 4, row = 2)\n",
    "    e_numerica = ttk.Combobox(w, width = 40,)\n",
    "    e_numerica['values'] = t_colunas\n",
    "    e_numerica.grid(column = 5, row = 2)\n",
    "    e_numerica.current(3)\n",
    "\n",
    "    ttk.Label(w, text = 'Coluna data').grid(column = 4, row = 3)\n",
    "    e_data = ttk.Combobox(w, width = 40,)\n",
    "    e_data['values'] = t_colunas\n",
    "    e_data.grid(column = 5, row = 3)\n",
    "    e_data.current(0)\n",
    "\n",
    "    ttk.Button(w, text = 'Selecionar colunas', command = resultados).grid(column = 4, row = 4)\n",
    "\n",
    "\n",
    "b_arquivo_selecionado = ttk.Button(w, text = 'Pressione após escolher', command = escolha_colunas)\n",
    "b_arquivo_selecionado.grid(column = 1, row = 2)\n",
    "\n",
    "\n",
    "w.mainloop()"
   ]
  },
  {
   "cell_type": "code",
   "execution_count": 3,
   "metadata": {},
   "outputs": [
    {
     "data": {
      "text/html": "<div>\n<style scoped>\n    .dataframe tbody tr th:only-of-type {\n        vertical-align: middle;\n    }\n\n    .dataframe tbody tr th {\n        vertical-align: top;\n    }\n\n    .dataframe thead th {\n        text-align: right;\n    }\n</style>\n<table border=\"1\" class=\"dataframe\">\n  <thead>\n    <tr style=\"text-align: right;\">\n      <th></th>\n      <th>banana</th>\n      <th>laranja</th>\n      <th>maca</th>\n      <th>melancia</th>\n      <th>pera</th>\n      <th>uva</th>\n      <th>todos</th>\n    </tr>\n  </thead>\n  <tbody>\n    <tr>\n      <th>mean</th>\n      <td>11.420290</td>\n      <td>12.725490</td>\n      <td>12.758065</td>\n      <td>12.383333</td>\n      <td>10.981132</td>\n      <td>4.154930</td>\n      <td>10.513661</td>\n    </tr>\n    <tr>\n      <th>std</th>\n      <td>10.150928</td>\n      <td>11.697997</td>\n      <td>11.349421</td>\n      <td>12.476543</td>\n      <td>10.629224</td>\n      <td>4.094065</td>\n      <td>10.682136</td>\n    </tr>\n    <tr>\n      <th>min</th>\n      <td>0.000000</td>\n      <td>0.000000</td>\n      <td>0.000000</td>\n      <td>1.000000</td>\n      <td>0.000000</td>\n      <td>0.000000</td>\n      <td>0.000000</td>\n    </tr>\n    <tr>\n      <th>max</th>\n      <td>45.000000</td>\n      <td>48.000000</td>\n      <td>45.000000</td>\n      <td>43.000000</td>\n      <td>48.000000</td>\n      <td>16.000000</td>\n      <td>48.000000</td>\n    </tr>\n  </tbody>\n</table>\n</div>",
      "text/plain": "         banana    laranja       maca   melancia       pera        uva  \\\nmean  11.420290  12.725490  12.758065  12.383333  10.981132   4.154930   \nstd   10.150928  11.697997  11.349421  12.476543  10.629224   4.094065   \nmin    0.000000   0.000000   0.000000   1.000000   0.000000   0.000000   \nmax   45.000000  48.000000  45.000000  43.000000  48.000000  16.000000   \n\n          todos  \nmean  10.513661  \nstd   10.682136  \nmin    0.000000  \nmax   48.000000  "
     },
     "execution_count": 3,
     "metadata": {},
     "output_type": "execute_result"
    }
   ],
   "source": [
    "def analisador_tabela(): \n",
    "    df = pd.read_csv('quitanda.csv')\n",
    "    categorica = 'frutas'\n",
    "    quantitativa = 'qtd_vendida'\n",
    "    est_categorias = df.groupby(categorica)[quantitativa].agg(['mean','std','min','max']).T\n",
    "    est_todos = df[quantitativa].agg(['mean','std','min','max']).rename(columns = {quantitativa:'todos'})\n",
    "    df_estatistica = pd.concat([est_categorias,est_todos], axis = 1).rename(columns = {0:'todos'})\n",
    "    return df_estatistica\n",
    "analisador_tabela()"
   ]
  },
  {
   "cell_type": "code",
   "execution_count": 6,
   "metadata": {},
   "outputs": [],
   "source": [
    "w2 = tk.Tk()\n",
    "tree = ttk.Treeview(w2)\n",
    "tabela = 'quitanda.csv'\n",
    "col_cat = 'frutas'\n",
    "col_num = 'qtd_vendida'\n",
    "\n",
    "def analisador_tabela(): \n",
    "    df = pd.read_csv(tabela)\n",
    "    categorica = col_cat\n",
    "    quantitativa = col_num\n",
    "    est_categorias = df.groupby(categorica)[quantitativa].agg(['mean','std','min','max']).T\n",
    "    est_todos = df[quantitativa].agg(['mean','std','min','max']).rename(columns = {quantitativa:'todos'})\n",
    "    df_estatistica = pd.concat([est_categorias,est_todos], axis = 1).rename(columns = {0:'todos'})\n",
    "    return df_estatistica\n",
    "df_e = analisador_tabela()\n",
    "\n",
    "tree[\"columns\"]=('0','1','2','3')\n",
    "for x,y in zip(('0','1','2','3'),tuple(df_e.columns)):\n",
    "    tree.column(x, width=100, minwidth=100, )\n",
    "    tree.heading(x,text=y)\n",
    "\n",
    "for x in range(df_e.shape[0]):\n",
    "   tree.insert('',x+1,str(x+1), text = df_e.index[x], values = tuple(df_e.iloc[x].values))\n",
    "\n",
    "\n",
    "tree.grid(column = 1, row = 5,columnspan = 4)\n",
    "w2.mainloop()"
   ]
  },
  {
   "cell_type": "code",
   "execution_count": 27,
   "metadata": {},
   "outputs": [
    {
     "data": {
      "text/plain": "{'widgetName': 'ttk::treeview',\n 'master': <tkinter.Tk object .>,\n 'tk': <_tkinter.tkapp at 0x1ac75283330>,\n '_name': '!treeview',\n '_w': '.!treeview',\n 'children': {},\n '_tclCommands': []}"
     },
     "execution_count": 27,
     "metadata": {},
     "output_type": "execute_result"
    }
   ],
   "source": [
    "vars(tree)"
   ]
  },
  {
   "cell_type": "code",
   "execution_count": null,
   "metadata": {},
   "outputs": [],
   "source": []
  }
 ]
}