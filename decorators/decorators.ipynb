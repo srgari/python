{
 "metadata": {
  "language_info": {
   "codemirror_mode": {
    "name": "ipython",
    "version": 3
   },
   "file_extension": ".py",
   "mimetype": "text/x-python",
   "name": "python",
   "nbconvert_exporter": "python",
   "pygments_lexer": "ipython3",
   "version": "3.8.3-final"
  },
  "orig_nbformat": 2,
  "kernelspec": {
   "name": "python3",
   "display_name": "Python 3"
  }
 },
 "nbformat": 4,
 "nbformat_minor": 2,
 "cells": [
  {
   "cell_type": "code",
   "execution_count": 1,
   "metadata": {},
   "outputs": [
    {
     "output_type": "stream",
     "name": "stdout",
     "text": [
      "decorador_inutil atribuído à  funcao_inutil\n"
     ]
    }
   ],
   "source": [
    "import functools\n",
    "\n",
    "def decorador_inutil(func):\n",
    "    '''docstring do decorador_inutil'''\n",
    "    print('decorador_inutil atribuído à ', func.__name__)\n",
    "    @functools.wraps(func)\n",
    "    def proxy():\n",
    "        '''docstring do proxy'''\n",
    "        print(f'{func.__name__} executada')\n",
    "        return func()\n",
    "    return proxy\n",
    "\n",
    "@decorador_inutil\n",
    "def funcao_inutil():\n",
    "    '''docstring da funcao_inutil'''\n",
    "    pass"
   ]
  },
  {
   "cell_type": "code",
   "execution_count": 31,
   "metadata": {},
   "outputs": [
    {
     "output_type": "execute_result",
     "data": {
      "text/plain": [
       "'docstring da funcao_inutil'"
      ]
     },
     "metadata": {},
     "execution_count": 31
    }
   ],
   "source": [
    "funcao_inutil.__doc__"
   ]
  }
 ]
}